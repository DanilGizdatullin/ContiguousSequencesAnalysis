{
 "cells": [
  {
   "cell_type": "code",
   "execution_count": 1,
   "metadata": {
    "collapsed": true
   },
   "outputs": [],
   "source": [
    "import matplotlib.pyplot as plt\n",
    "import numpy as np"
   ]
  },
  {
   "cell_type": "code",
   "execution_count": 2,
   "metadata": {
    "collapsed": false
   },
   "outputs": [],
   "source": [
    "import os, sys\n",
    "\n",
    "lib_path = os.path.abspath(os.path.join('..'))\n",
    "sys.path.append(lib_path)"
   ]
  },
  {
   "cell_type": "code",
   "execution_count": 19,
   "metadata": {
    "collapsed": false
   },
   "outputs": [],
   "source": [
    "from usa.reader import ReadFromCSV\n",
    "from usa.classifier import ClassifierBySequencePatterns, ClassifierByClosureSequencePatterns\n",
    "from usa.metrics import accuracy_score_with_unclassified_objects, tpr_fpr_nonclass, f1_score_nonclass"
   ]
  },
  {
   "cell_type": "code",
   "execution_count": 4,
   "metadata": {
    "collapsed": true
   },
   "outputs": [],
   "source": [
    "file_name = '/Users/danil.gizdatullin/git_projects/HSE/UnbrokenSequenceAnalysis/examples/data/full_data_shuffle.csv'\n",
    "coding_dict={'work': 1, 'separation': 2, 'partner': 3,\n",
    "             'marriage': 4, 'children': 5, 'parting': 6,\n",
    "             'divorce': 7, 'education': 8}"
   ]
  },
  {
   "cell_type": "code",
   "execution_count": 5,
   "metadata": {
    "collapsed": true
   },
   "outputs": [],
   "source": [
    "reader = ReadFromCSV(file_name, coding_dict)\n",
    "\n",
    "data, label = reader.from_file_to_data_list()"
   ]
  },
  {
   "cell_type": "code",
   "execution_count": 6,
   "metadata": {
    "collapsed": true
   },
   "outputs": [],
   "source": [
    "size_of_train = int(len(data)*0.66)"
   ]
  },
  {
   "cell_type": "code",
   "execution_count": 7,
   "metadata": {
    "collapsed": true
   },
   "outputs": [],
   "source": [
    "X_train = data[:size_of_train]\n",
    "X_test = data[size_of_train:]\n",
    "\n",
    "y_train = label[:size_of_train]\n",
    "y_test = label[size_of_train:]"
   ]
  },
  {
   "cell_type": "code",
   "execution_count": 8,
   "metadata": {
    "collapsed": false
   },
   "outputs": [
    {
     "name": "stdout",
     "output_type": "stream",
     "text": [
      "515\n",
      "1137\n"
     ]
    }
   ],
   "source": [
    "print(sum(y_test))\n",
    "print(len(y_test) - sum(y_test))"
   ]
  },
  {
   "cell_type": "code",
   "execution_count": 11,
   "metadata": {
    "collapsed": false
   },
   "outputs": [
    {
     "name": "stdout",
     "output_type": "stream",
     "text": [
      "1030\n",
      "2175\n"
     ]
    }
   ],
   "source": [
    "print(sum(y_train))\n",
    "print(len(y_train) - sum(y_train))"
   ]
  },
  {
   "cell_type": "code",
   "execution_count": 13,
   "metadata": {
    "collapsed": false
   },
   "outputs": [
    {
     "name": "stdout",
     "output_type": "stream",
     "text": [
      "3205\n",
      "3205\n",
      "Median = 1.510187\n",
      "Median = 1.855458\n",
      "3205\n",
      "3205\n",
      "Median = 2.367816\n",
      "Median = 2.533981\n",
      "3205\n",
      "3205\n",
      "Median = 3.078161\n",
      "Median = 3.273058\n",
      "3205\n",
      "3205\n",
      "Median = 7.103448\n",
      "Median = 6.334951\n",
      "3205\n",
      "3205\n",
      "Median = 12.312644\n",
      "Median = 10.558252\n"
     ]
    }
   ],
   "source": [
    "f_ones = []\n",
    "y_pred_list = []\n",
    "for i in (1.00001, 1.5, 2, 5, 10):\n",
    "    origin_classifier = ClassifierBySequencePatterns(number_of_classes=2,\n",
    "                                                     threshold_for_rules=0.001,\n",
    "                                                     threshold_for_growth_rate=i)\n",
    "    origin_classifier.fit(X_train, y_train)\n",
    "    y_pred = origin_classifier.predict(X_test)\n",
    "    y_pred_list.append(y_pred)"
   ]
  },
  {
   "cell_type": "code",
   "execution_count": 14,
   "metadata": {
    "collapsed": false
   },
   "outputs": [
    {
     "name": "stdout",
     "output_type": "stream",
     "text": [
      "[[697 433]\n",
      " [239 275]]\n",
      "[[466 336]\n",
      " [146 207]]\n",
      "[[302 238]\n",
      " [ 83 149]]\n",
      "[[134  27]\n",
      " [ 41  22]]\n",
      "[[99 11]\n",
      " [30  8]]\n"
     ]
    }
   ],
   "source": [
    "accuracy = []\n",
    "tpr_fpr = []\n",
    "f1 = []\n",
    "\n",
    "for i in y_pred_list:\n",
    "    cur_accuracy = accuracy_score_with_unclassified_objects(y_test, i)\n",
    "    cur_f1 = f1_score_nonclass(y_test, i)\n",
    "    cur_tpr_fpr = tpr_fpr_nonclass(y_test, i)\n",
    "    accuracy.append(cur_accuracy)\n",
    "    f1.append(cur_f1)\n",
    "    tpr_fpr.append(cur_tpr_fpr)"
   ]
  },
  {
   "cell_type": "code",
   "execution_count": 15,
   "metadata": {
    "collapsed": false
   },
   "outputs": [
    {
     "data": {
      "text/plain": [
       "[(0.59124087591240881, 8),\n",
       " (0.58268398268398269, 497),\n",
       " (0.58419689119170981, 880),\n",
       " (0.6964285714285714, 1428),\n",
       " (0.72297297297297303, 1504)]"
      ]
     },
     "execution_count": 15,
     "metadata": {},
     "output_type": "execute_result"
    }
   ],
   "source": [
    "accuracy"
   ]
  },
  {
   "cell_type": "code",
   "execution_count": 16,
   "metadata": {
    "collapsed": false
   },
   "outputs": [
    {
     "data": {
      "text/plain": [
       "[(0.45008183306055649, 8),\n",
       " (0.46205357142857145, 497),\n",
       " (0.48142164781906299, 880),\n",
       " (0.39285714285714285, 1428),\n",
       " (0.2807017543859649, 1504)]"
      ]
     },
     "execution_count": 16,
     "metadata": {},
     "output_type": "execute_result"
    }
   ],
   "source": [
    "f1"
   ]
  },
  {
   "cell_type": "code",
   "execution_count": 17,
   "metadata": {
    "collapsed": false
   },
   "outputs": [
    {
     "data": {
      "text/plain": [
       "[(0.53501945525291827, 0.38318584070796458, 8),\n",
       " (0.58640226628895187, 0.41895261845386533, 497),\n",
       " (0.64224137931034486, 0.44074074074074077, 880),\n",
       " (0.34920634920634919, 0.16770186335403728, 1428),\n",
       " (0.21052631578947367, 0.10000000000000001, 1504)]"
      ]
     },
     "execution_count": 17,
     "metadata": {},
     "output_type": "execute_result"
    }
   ],
   "source": [
    "tpr_fpr"
   ]
  },
  {
   "cell_type": "code",
   "execution_count": 20,
   "metadata": {
    "collapsed": false
   },
   "outputs": [
    {
     "name": "stdout",
     "output_type": "stream",
     "text": [
      "Median = 1.558812\n",
      "Median = 1.784847\n",
      "Median = 2.367816\n",
      "Median = 2.533981\n",
      "Median = 3.078161\n",
      "Median = 3.167476\n",
      "Median = 7.103448\n",
      "Median = 6.334951\n",
      "Median = 12.312644\n",
      "Median = 10.558252\n"
     ]
    }
   ],
   "source": [
    "f_ones = []\n",
    "y_pred_list = []\n",
    "for i in (1.00001, 1.5, 2, 5, 10):\n",
    "    origin_classifier = ClassifierByClosureSequencePatterns(number_of_classes=2,\n",
    "                                                            threshold_for_rules=0.001,\n",
    "                                                            threshold_for_growth_rate=i)\n",
    "    origin_classifier.fit(X_train, y_train)\n",
    "    y_pred = origin_classifier.predict(X_test)\n",
    "    y_pred_list.append(y_pred)"
   ]
  },
  {
   "cell_type": "code",
   "execution_count": 21,
   "metadata": {
    "collapsed": false
   },
   "outputs": [
    {
     "name": "stdout",
     "output_type": "stream",
     "text": [
      "[[694 436]\n",
      " [238 276]]\n",
      "[[466 333]\n",
      " [145 208]]\n",
      "[[301 235]\n",
      " [ 82 149]]\n",
      "[[133  24]\n",
      " [ 40  21]]\n",
      "[[98  7]\n",
      " [29  7]]\n"
     ]
    }
   ],
   "source": [
    "accuracy = []\n",
    "tpr_fpr = []\n",
    "f1 = []\n",
    "\n",
    "for i in y_pred_list:\n",
    "    cur_accuracy = accuracy_score_with_unclassified_objects(y_test, i)\n",
    "    cur_f1 = f1_score_nonclass(y_test, i)\n",
    "    cur_tpr_fpr = tpr_fpr_nonclass(y_test, i)\n",
    "    accuracy.append(cur_accuracy)\n",
    "    f1.append(cur_f1)\n",
    "    tpr_fpr.append(cur_tpr_fpr)"
   ]
  },
  {
   "cell_type": "code",
   "execution_count": 22,
   "metadata": {
    "collapsed": false
   },
   "outputs": [
    {
     "data": {
      "text/plain": [
       "[(0.59002433090024331, 8),\n",
       " (0.58506944444444442, 500),\n",
       " (0.58670143415906129, 885),\n",
       " (0.70642201834862384, 1434),\n",
       " (0.74468085106382975, 1511)]"
      ]
     },
     "execution_count": 22,
     "metadata": {},
     "output_type": "execute_result"
    }
   ],
   "source": [
    "accuracy"
   ]
  },
  {
   "cell_type": "code",
   "execution_count": 23,
   "metadata": {
    "collapsed": false
   },
   "outputs": [
    {
     "data": {
      "text/plain": [
       "[(0.45024469820554641, 8),\n",
       " (0.46532438478747201, 500),\n",
       " (0.48455284552845523, 885),\n",
       " (0.39622641509433959, 1434),\n",
       " (0.28000000000000003, 1511)]"
      ]
     },
     "execution_count": 23,
     "metadata": {},
     "output_type": "execute_result"
    }
   ],
   "source": [
    "f1"
   ]
  },
  {
   "cell_type": "code",
   "execution_count": 24,
   "metadata": {
    "collapsed": false
   },
   "outputs": [
    {
     "data": {
      "text/plain": [
       "[(0.53696498054474706, 0.38584070796460179, 8),\n",
       " (0.58923512747875351, 0.41677096370463079, 500),\n",
       " (0.64502164502164505, 0.43843283582089554, 885),\n",
       " (0.34426229508196721, 0.15286624203821655, 1434),\n",
       " (0.19444444444444445, 0.066666666666666666, 1511)]"
      ]
     },
     "execution_count": 24,
     "metadata": {},
     "output_type": "execute_result"
    }
   ],
   "source": [
    "tpr_fpr"
   ]
  },
  {
   "cell_type": "code",
   "execution_count": null,
   "metadata": {
    "collapsed": true
   },
   "outputs": [],
   "source": []
  }
 ],
 "metadata": {
  "kernelspec": {
   "display_name": "Python 2",
   "language": "python",
   "name": "python2"
  },
  "language_info": {
   "codemirror_mode": {
    "name": "ipython",
    "version": 2
   },
   "file_extension": ".py",
   "mimetype": "text/x-python",
   "name": "python",
   "nbconvert_exporter": "python",
   "pygments_lexer": "ipython2",
   "version": "2.7.10"
  }
 },
 "nbformat": 4,
 "nbformat_minor": 0
}
