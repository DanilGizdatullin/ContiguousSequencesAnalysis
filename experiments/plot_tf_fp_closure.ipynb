{
 "cells": [
  {
   "cell_type": "code",
   "execution_count": 1,
   "metadata": {
    "collapsed": false
   },
   "outputs": [],
   "source": [
    "import matplotlib.pyplot as plt\n",
    "import numpy as np\n",
    "import scipy\n",
    "\n",
    "import os, sys\n",
    "\n",
    "lib_path = os.path.abspath(os.path.join('..'))\n",
    "sys.path.append(lib_path)\n",
    "\n",
    "from usa.reader import ReadFromCSV\n",
    "from usa.classifier import ClassifierBySequencePatterns, ClassifierByClosureSequencePatterns\n",
    "from usa.metrics import accuracy_score_with_unclassified_objects, tpr_fpr_nonclass, f1_score_nonclass\n",
    "\n",
    "%matplotlib inline"
   ]
  },
  {
   "cell_type": "code",
   "execution_count": 2,
   "metadata": {
    "collapsed": true
   },
   "outputs": [],
   "source": [
    "file_name = '/Users/danil.gizdatullin/git_projects/HSE/UnbrokenSequenceAnalysis/examples/data/full_data_shuffle.csv'\n",
    "coding_dict={'work': 1, 'separation': 2, 'partner': 3,\n",
    "             'marriage': 4, 'children': 5, 'parting': 6,\n",
    "             'divorce': 7, 'education': 8}\n",
    "\n",
    "reader = ReadFromCSV(file_name, coding_dict)\n",
    "\n",
    "data, label = reader.from_file_to_data_list()\n",
    "\n",
    "size_of_train = int(len(data)*0.66)\n",
    "\n",
    "X_train = data[:size_of_train]\n",
    "X_test = data[size_of_train:]\n",
    "\n",
    "y_train = label[:size_of_train]\n",
    "y_test = label[size_of_train:]"
   ]
  },
  {
   "cell_type": "code",
   "execution_count": 3,
   "metadata": {
    "collapsed": false
   },
   "outputs": [
    {
     "data": {
      "text/plain": [
       "0.9614999999999999"
      ]
     },
     "execution_count": 3,
     "metadata": {},
     "output_type": "execute_result"
    }
   ],
   "source": [
    "len(X_train) * 0.0003"
   ]
  },
  {
   "cell_type": "markdown",
   "metadata": {},
   "source": [
    "### Threshold for Growth Rate"
   ]
  },
  {
   "cell_type": "code",
   "execution_count": 10,
   "metadata": {
    "collapsed": false
   },
   "outputs": [
    {
     "name": "stdout",
     "output_type": "stream",
     "text": [
      "Median = 1.558812\n",
      "Median = 1.784847\n",
      "Median = 1.894253\n",
      "Median = 2.111650\n",
      "Median = 2.367816\n",
      "Median = 2.460532\n",
      "Median = 2.367816\n",
      "Median = 2.943513\n",
      "Median = 3.078161\n",
      "Median = 3.167476\n",
      "Median = 3.314943\n",
      "Median = 4.223301\n",
      "Median = 3.551724\n",
      "Median = 4.223301\n",
      "Median = 3.630651\n",
      "Median = 4.223301\n",
      "Median = 3.906897\n",
      "Median = 4.223301\n",
      "Median = 3.906897\n",
      "Median = 4.223301\n",
      "Median = 4.262069\n",
      "Median = 4.223301\n",
      "Median = 5.209195\n",
      "Median = 4.223301\n",
      "Median = 5.209195\n",
      "Median = 4.223301\n",
      "Median = 6.629885\n",
      "Median = 4.223301\n",
      "Median = 7.103448\n",
      "Median = 6.334951\n",
      "Median = 7.103448\n",
      "Median = 6.334951\n",
      "Median = 7.103448\n",
      "Median = 6.334951\n",
      "Median = 7.103448\n",
      "Median = 6.334951\n",
      "Median = 7.103448\n",
      "Median = 6.334951\n",
      "Median = 7.103448\n",
      "Median = 6.334951\n",
      "Median = 7.103448\n",
      "Median = 6.334951\n",
      "Median = 7.103448\n",
      "Median = 6.334951\n",
      "Median = 7.103448\n",
      "Median = 6.334951\n",
      "Median = 7.340230\n",
      "Median = 6.334951\n",
      "Median = 7.340230\n",
      "Median = 10.558252\n",
      "Median = 7.577011\n",
      "Median = 10.558252\n",
      "Median = 7.577011\n",
      "Median = 10.558252\n",
      "Median = 8.997701\n",
      "Median = 10.558252\n",
      "Median = 8.997701\n",
      "Median = 10.558252\n",
      "Median = 9.234483\n",
      "Median = 10.558252\n",
      "Median = 9.234483\n",
      "Median = 10.558252\n",
      "Median = 9.471264\n",
      "Median = 10.558252\n",
      "Median = 9.471264\n",
      "Median = 10.558252\n",
      "Median = 9.471264\n",
      "Median = 10.558252\n",
      "Median = 9.471264\n",
      "Median = 10.558252\n",
      "Median = 10.891954\n",
      "Median = 10.558252\n",
      "Median = 10.891954\n",
      "Median = 10.558252\n",
      "Median = 12.312644\n",
      "Median = 10.558252\n",
      "Median = 12.312644\n",
      "Median = 10.558252\n",
      "Median = 12.312644\n",
      "Median = 10.558252\n"
     ]
    }
   ],
   "source": [
    "y_pred_list = []\n",
    "# for i in (1.00001, 1.5, 2, 5, 10):\n",
    "for i in scipy.linspace(1, 10, 40):\n",
    "    origin_classifier = ClassifierByClosureSequencePatterns(number_of_classes=2,\n",
    "                                                            threshold_for_rules=0.001,\n",
    "                                                            threshold_for_growth_rate=i)\n",
    "    origin_classifier.fit(X_train, y_train)\n",
    "    y_pred = origin_classifier.predict(X_test)\n",
    "    y_pred_list.append(y_pred)"
   ]
  },
  {
   "cell_type": "code",
   "execution_count": 11,
   "metadata": {
    "collapsed": false
   },
   "outputs": [
    {
     "name": "stdout",
     "output_type": "stream",
     "text": [
      "[[694 436]\n",
      " [238 276]]\n",
      "[[616 450]\n",
      " [203 284]]\n",
      "[[473 352]\n",
      " [145 220]]\n",
      "[[407 305]\n",
      " [108 201]]\n",
      "[[307 235]\n",
      " [ 83 149]]\n",
      "[[292 163]\n",
      " [ 80 107]]\n",
      "[[269 146]\n",
      " [ 71  87]]\n",
      "[[252 114]\n",
      " [ 64  59]]\n",
      "[[219  95]\n",
      " [ 58  56]]\n",
      "[[219  95]\n",
      " [ 58  56]]\n",
      "[[187  82]\n",
      " [ 55  45]]\n",
      "[[181  70]\n",
      " [ 53  38]]\n",
      "[[171  58]\n",
      " [ 50  34]]\n",
      "[[145  48]\n",
      " [ 43  29]]\n",
      "[[145  24]\n",
      " [ 41  21]]\n",
      "[[138  24]\n",
      " [ 41  21]]\n",
      "[[138  24]\n",
      " [ 41  21]]\n",
      "[[133  24]\n",
      " [ 40  21]]\n",
      "[[133  24]\n",
      " [ 40  21]]\n",
      "[[124  22]\n",
      " [ 39  18]]\n",
      "[[124  22]\n",
      " [ 39  18]]\n",
      "[[124  20]\n",
      " [ 39  18]]\n",
      "[[124  20]\n",
      " [ 39  18]]\n",
      "[[119  20]\n",
      " [ 38  18]]\n",
      "[[119   7]\n",
      " [ 38   7]]\n",
      "[[118   7]\n",
      " [ 38   7]]\n",
      "[[118   7]\n",
      " [ 38   7]]\n",
      "[[107   7]\n",
      " [ 34   7]]\n",
      "[[107   7]\n",
      " [ 34   7]]\n",
      "[[107   7]\n",
      " [ 34   7]]\n",
      "[[107   7]\n",
      " [ 34   7]]\n",
      "[[107   7]\n",
      " [ 34   7]]\n",
      "[[107   7]\n",
      " [ 34   7]]\n",
      "[[107   7]\n",
      " [ 34   7]]\n",
      "[[107   7]\n",
      " [ 34   7]]\n",
      "[[107   7]\n",
      " [ 34   7]]\n",
      "[[107   7]\n",
      " [ 34   7]]\n",
      "[[98  7]\n",
      " [29  7]]\n",
      "[[98  7]\n",
      " [29  7]]\n",
      "[[98  7]\n",
      " [29  7]]\n"
     ]
    }
   ],
   "source": [
    "accuracy = []\n",
    "tpr_fpr = []\n",
    "f1 = []\n",
    "\n",
    "for i in y_pred_list:\n",
    "    cur_accuracy = accuracy_score_with_unclassified_objects(y_test, i)\n",
    "    cur_f1 = f1_score_nonclass(y_test, i)\n",
    "    cur_tpr_fpr = tpr_fpr_nonclass(y_test, i)\n",
    "    accuracy.append(cur_accuracy)\n",
    "    f1.append(cur_f1)\n",
    "    tpr_fpr.append(cur_tpr_fpr)"
   ]
  },
  {
   "cell_type": "code",
   "execution_count": 12,
   "metadata": {
    "collapsed": false
   },
   "outputs": [
    {
     "name": "stdout",
     "output_type": "stream",
     "text": [
      "[(0.53696498054474706, 0.38584070796460179, 8), (0.58316221765913756, 0.42213883677298314, 99), (0.60273972602739723, 0.42666666666666669, 462), (0.65048543689320393, 0.42837078651685395, 631), (0.64224137931034486, 0.43357933579335795, 878), (0.57219251336898391, 0.35824175824175825, 1010), (0.55063291139240511, 0.35180722891566263, 1079), (0.47967479674796748, 0.31147540983606559, 1163), (0.49122807017543857, 0.30254777070063693, 1224), (0.49122807017543857, 0.30254777070063693, 1224), (0.45000000000000001, 0.30483271375464682, 1283), (0.4175824175824176, 0.2788844621513944, 1310), (0.40476190476190477, 0.25327510917030566, 1339), (0.40277777777777779, 0.24870466321243523, 1387), (0.33870967741935482, 0.14201183431952663, 1421), (0.33870967741935482, 0.14814814814814814, 1428), (0.33870967741935482, 0.14814814814814814, 1428), (0.34426229508196721, 0.15286624203821655, 1434), (0.34426229508196721, 0.15286624203821655, 1434), (0.31578947368421051, 0.15068493150684931, 1449), (0.31578947368421051, 0.15068493150684931, 1449), (0.31578947368421051, 0.1388888888888889, 1451), (0.31578947368421051, 0.1388888888888889, 1451), (0.32142857142857145, 0.14388489208633093, 1457), (0.15555555555555556, 0.055555555555555552, 1481), (0.15555555555555556, 0.056000000000000001, 1482), (0.15555555555555556, 0.056000000000000001, 1482), (0.17073170731707318, 0.061403508771929821, 1497), (0.17073170731707318, 0.061403508771929821, 1497), (0.17073170731707318, 0.061403508771929821, 1497), (0.17073170731707318, 0.061403508771929821, 1497), (0.17073170731707318, 0.061403508771929821, 1497), (0.17073170731707318, 0.061403508771929821, 1497), (0.17073170731707318, 0.061403508771929821, 1497), (0.17073170731707318, 0.061403508771929821, 1497), (0.17073170731707318, 0.061403508771929821, 1497), (0.17073170731707318, 0.061403508771929821, 1497), (0.19444444444444445, 0.066666666666666666, 1511), (0.19444444444444445, 0.066666666666666666, 1511), (0.19444444444444445, 0.066666666666666666, 1511)]\n"
     ]
    }
   ],
   "source": [
    "print tpr_fpr"
   ]
  },
  {
   "cell_type": "code",
   "execution_count": 13,
   "metadata": {
    "collapsed": true
   },
   "outputs": [],
   "source": [
    "fpr = []\n",
    "tpr = []\n",
    "for i in tpr_fpr:\n",
    "    tpr.append(i[0])\n",
    "    fpr.append(i[1])"
   ]
  },
  {
   "cell_type": "code",
   "execution_count": 25,
   "metadata": {
    "collapsed": false
   },
   "outputs": [
    {
     "data": {
      "image/png": "[encoded data removed]",
      "text/plain": [
       "<matplotlib.figure.Figure at 0x10f820d10>"
      ]
     },
     "metadata": {},
     "output_type": "display_data"
    }
   ],
   "source": [
    "fig = plt.figure()\n",
    "fig.suptitle('FPR-TPR', fontsize=14, fontweight='bold')\n",
    "ax = fig.add_subplot(111)\n",
    "x = scipy.linspace(0, 1, 100)\n",
    "y = x[:]\n",
    "\n",
    "n = len(fpr)\n",
    "ax.scatter(fpr, tpr)\n",
    "\n",
    "ax.set_xlabel(\"FPR\")\n",
    "ax.set_ylabel(\"TPR\")\n",
    "ax.plot(x, y)\n",
    "ax.axis('equal')\n",
    "ax.axis([0, 1, 0, 1])\n",
    "\n",
    "plt.show()"
   ]
  },
  {
   "cell_type": "code",
   "execution_count": 47,
   "metadata": {
    "collapsed": false
   },
   "outputs": [
    {
     "data": {
      "image/png": "[encoded data removed]",
      "text/plain": [
       "<matplotlib.figure.Figure at 0x10faf71d0>"
      ]
     },
     "metadata": {},
     "output_type": "display_data"
    }
   ],
   "source": [
    "fig = plt.figure()\n",
    "fig.suptitle('FPR-TPR', fontsize=14, fontweight='bold')\n",
    "ax = fig.add_subplot(111)\n",
    "x = scipy.linspace(0, 1, 100)\n",
    "y = x[:]\n",
    "\n",
    "n = len(fpr)\n",
    "ax.scatter(fpr, tpr)\n",
    "ax.plot(x, y)\n",
    "n_of_test_objects = float(len(X_test))\n",
    "# labels = [str(i) for i in xrange(len(fpr))]\n",
    "labels = [\"%.0f\" % (i[2]/n_of_test_objects*100) for i in tpr_fpr]\n",
    "for label, x, y in zip(labels, fpr, tpr):\n",
    "    ax.annotate(\n",
    "        label, \n",
    "        xy = (x, y), xytext = (-20, 20),\n",
    "        textcoords = 'offset points', ha = 'right', va = 'bottom',\n",
    "        bbox = dict(boxstyle = 'round,pad=0.1', fc = 'white', alpha = 0.3),\n",
    "        arrowprops = dict(arrowstyle = '->', connectionstyle = 'arc3,rad=0'))\n",
    "\n",
    "ax.set_xlabel(\"FPR\")\n",
    "ax.set_ylabel(\"TPR\")\n",
    "# ax.axis('equal')\n",
    "ax.axis([0, 0.5, 0, 0.8])\n",
    "\n",
    "plt.show()"
   ]
  },
  {
   "cell_type": "code",
   "execution_count": 48,
   "metadata": {
    "collapsed": false
   },
   "outputs": [
    {
     "data": {
      "image/png": "[encoded data removed]",
      "text/plain": [
       "<matplotlib.figure.Figure at 0x10fd72710>"
      ]
     },
     "metadata": {},
     "output_type": "display_data"
    }
   ],
   "source": [
    "fig = plt.figure()\n",
    "fig.suptitle('Number of unclassified', fontsize=14, fontweight='bold')\n",
    "ax = fig.add_subplot(111)\n",
    "x = scipy.linspace(1, 10, 40)\n",
    "y = [(i[2]/n_of_test_objects) for i in tpr_fpr]\n",
    "\n",
    "ax.set_xlabel(\"Threshold for Growth Rate\")\n",
    "ax.set_ylabel(\"Number of unclassified\")\n",
    "ax.plot(x, y)\n",
    "# ax.axis('equal')\n",
    "# ax.axis([0, 1, 0, 1])\n",
    "\n",
    "plt.show()"
   ]
  },
  {
   "cell_type": "markdown",
   "metadata": {},
   "source": [
    "### Threshold for Rules"
   ]
  },
  {
   "cell_type": "code",
   "execution_count": 9,
   "metadata": {
    "collapsed": false
   },
   "outputs": [
    {
     "name": "stdout",
     "output_type": "stream",
     "text": [
      "Median = 1.894253\n",
      "Median = 2.111650\n",
      "Median = 1.917931\n",
      "Median = 2.111650\n",
      "Median = 2.131034\n",
      "Median = 2.006068\n",
      "Median = 2.052107\n",
      "Median = 1.992870\n",
      "Median = 2.036322\n",
      "Median = 1.823698\n",
      "Median = 2.036322\n",
      "Median = 1.838896\n",
      "Median = 1.941609\n",
      "Median = 1.838896\n",
      "Median = 2.178391\n",
      "Median = 1.838896\n",
      "Median = 1.894253\n",
      "Median = 1.826898\n",
      "Median = 1.852468\n",
      "Median = 1.823698\n",
      "Median = 1.810683\n",
      "Median = 1.737712\n",
      "Median = 1.805112\n",
      "Median = 1.737712\n",
      "Median = 1.792775\n",
      "Median = 1.737712\n",
      "Median = 1.690358\n",
      "Median = 1.596614\n",
      "Median = 1.690358\n",
      "Median = 1.656165\n",
      "Median = 1.690358\n",
      "Median = 1.715716\n",
      "Median = 1.690358\n",
      "Median = 1.656165\n",
      "Median = 1.618008\n",
      "Median = 1.596614\n",
      "Median = 1.618008\n",
      "Median = 1.577606\n",
      "Median = 1.690358\n",
      "Median = 1.596614\n",
      "Median = 1.690358\n",
      "Median = 1.656165\n",
      "Median = 1.618008\n",
      "Median = 1.781705\n",
      "Median = 1.618008\n",
      "Median = 1.715716\n",
      "Median = 1.528118\n",
      "Median = 1.715716\n",
      "Median = 1.528118\n",
      "Median = 1.715716\n",
      "Median = 1.528118\n",
      "Median = 1.487754\n",
      "Median = 1.438229\n",
      "Median = 1.487754\n",
      "Median = 1.420690\n",
      "Median = 1.419605\n",
      "Median = 1.420690\n",
      "Median = 1.419605\n",
      "Median = 1.420690\n",
      "Median = 1.351456\n",
      "Median = 1.420690\n",
      "Median = 1.351456\n",
      "Median = 1.420690\n",
      "Median = 1.419605\n",
      "Median = 1.420690\n",
      "Median = 1.419605\n",
      "Median = 1.420690\n",
      "Median = 1.487754\n",
      "Median = 1.420690\n",
      "Median = 1.487754\n",
      "Median = 1.420690\n",
      "Median = 1.487754\n",
      "Median = 1.420690\n",
      "Median = 1.667724\n",
      "Median = 1.420690\n",
      "Median = 1.487754\n",
      "Median = 1.420690\n",
      "Median = 1.409859\n",
      "Median = 1.420690\n",
      "Median = 1.331964\n"
     ]
    }
   ],
   "source": [
    "y_pred_list = []\n",
    "\n",
    "for i in scipy.linspace(0.0003, 0.056, 40):\n",
    "    origin_classifier = ClassifierByClosureSequencePatterns(number_of_classes=2,\n",
    "                                                            threshold_for_rules=i,\n",
    "                                                            threshold_for_growth_rate=1.25)\n",
    "    origin_classifier.fit(X_train, y_train)\n",
    "    y_pred = origin_classifier.predict(X_test)\n",
    "    y_pred_list.append(y_pred)"
   ]
  },
  {
   "cell_type": "code",
   "execution_count": 10,
   "metadata": {
    "collapsed": false
   },
   "outputs": [
    {
     "name": "stdout",
     "output_type": "stream",
     "text": [
      "[[638 389]\n",
      " [210 253]]\n",
      "[[582 413]\n",
      " [191 263]]\n",
      "[[535 412]\n",
      " [180 262]]\n",
      "[[516 413]\n",
      " [170 264]]\n",
      "[[505 404]\n",
      " [155 273]]\n",
      "[[486 395]\n",
      " [143 274]]\n",
      "[[461 394]\n",
      " [127 273]]\n",
      "[[392 425]\n",
      " [113 278]]\n",
      "[[382 425]\n",
      " [109 278]]\n",
      "[[353 417]\n",
      " [102 273]]\n",
      "[[353 417]\n",
      " [102 273]]\n",
      "[[353 408]\n",
      " [102 268]]\n",
      "[[353 408]\n",
      " [102 268]]\n",
      "[[320 422]\n",
      " [ 89 276]]\n",
      "[[320 422]\n",
      " [ 89 276]]\n",
      "[[320 422]\n",
      " [ 89 276]]\n",
      "[[320 422]\n",
      " [ 89 276]]\n",
      "[[268 422]\n",
      " [ 70 276]]\n",
      "[[268 422]\n",
      " [ 70 276]]\n",
      "[[268 422]\n",
      " [ 70 276]]\n",
      "[[268 422]\n",
      " [ 70 276]]\n",
      "[[268 398]\n",
      " [ 70 256]]\n",
      "[[236 398]\n",
      " [ 63 256]]\n",
      "[[191 443]\n",
      " [ 55 264]]\n",
      "[[191 443]\n",
      " [ 55 264]]\n",
      "[[191 428]\n",
      " [ 55 241]]\n",
      "[[152 428]\n",
      " [ 50 241]]\n",
      "[[ 64 428]\n",
      " [ 25 241]]\n",
      "[[ 64 428]\n",
      " [ 25 241]]\n",
      "[[ 64 428]\n",
      " [ 25 241]]\n",
      "[[ 64 428]\n",
      " [ 25 241]]\n",
      "[[ 64 393]\n",
      " [ 25 215]]\n",
      "[[ 64 393]\n",
      " [ 25 215]]\n",
      "[[ 64 351]\n",
      " [ 25 202]]\n",
      "[[ 64 351]\n",
      " [ 25 202]]\n",
      "[[ 64 351]\n",
      " [ 25 202]]\n",
      "[[ 64 305]\n",
      " [ 25 172]]\n",
      "[[ 64 305]\n",
      " [ 25 172]]\n",
      "[[ 64 265]\n",
      " [ 25 152]]\n",
      "[[ 64 265]\n",
      " [ 25 152]]\n"
     ]
    }
   ],
   "source": [
    "accuracy = []\n",
    "tpr_fpr = []\n",
    "f1 = []\n",
    "\n",
    "for i in y_pred_list:\n",
    "    cur_accuracy = accuracy_score_with_unclassified_objects(y_test, i)\n",
    "    cur_f1 = f1_score_nonclass(y_test, i)\n",
    "    cur_tpr_fpr = tpr_fpr_nonclass(y_test, i)\n",
    "    accuracy.append(cur_accuracy)\n",
    "    f1.append(cur_f1)\n",
    "    tpr_fpr.append(cur_tpr_fpr)"
   ]
  },
  {
   "cell_type": "code",
   "execution_count": 11,
   "metadata": {
    "collapsed": true
   },
   "outputs": [],
   "source": [
    "fpr = []\n",
    "tpr = []\n",
    "for i in tpr_fpr:\n",
    "    tpr.append(i[0])\n",
    "    fpr.append(i[1])"
   ]
  },
  {
   "cell_type": "code",
   "execution_count": 12,
   "metadata": {
    "collapsed": false
   },
   "outputs": [
    {
     "data": {
      "image/png": "[encoded data removed]",
      "text/plain": [
       "<matplotlib.figure.Figure at 0x10634b2d0>"
      ]
     },
     "metadata": {},
     "output_type": "display_data"
    }
   ],
   "source": [
    "fig = plt.figure()\n",
    "fig.suptitle('FPR-TPR', fontsize=14, fontweight='bold')\n",
    "ax = fig.add_subplot(111)\n",
    "x = scipy.linspace(0, 1, 100)\n",
    "y = x[:]\n",
    "\n",
    "n = len(fpr)\n",
    "ax.scatter(fpr, tpr)\n",
    "\n",
    "ax.set_xlabel(\"FPR\")\n",
    "ax.set_ylabel(\"TPR\")\n",
    "ax.plot(x, y)\n",
    "ax.axis('equal')\n",
    "ax.axis([0, 1, 0, 1])\n",
    "\n",
    "plt.show()"
   ]
  },
  {
   "cell_type": "code",
   "execution_count": 14,
   "metadata": {
    "collapsed": false
   },
   "outputs": [
    {
     "data": {
      "image/png": "[encoded data removed]",
      "text/plain": [
       "<matplotlib.figure.Figure at 0x10ab90ed0>"
      ]
     },
     "metadata": {},
     "output_type": "display_data"
    }
   ],
   "source": [
    "fig = plt.figure()\n",
    "fig.suptitle('Number of unclassified', fontsize=14, fontweight='bold')\n",
    "ax = fig.add_subplot(111)\n",
    "x = scipy.linspace(0.0003, 0.056, 40)\n",
    "n_of_test_objects = float(len(X_test))\n",
    "y = [(i[2]/n_of_test_objects) for i in tpr_fpr]\n",
    "\n",
    "ax.set_xlabel(\"Threshold for Growth Rate\")\n",
    "ax.set_ylabel(\"Number of unclassified\")\n",
    "ax.plot(x, y)\n",
    "# ax.axis('equal')\n",
    "# ax.axis([0, 1, 0, 1])\n",
    "\n",
    "plt.show()"
   ]
  },
  {
   "cell_type": "code",
   "execution_count": null,
   "metadata": {
    "collapsed": true
   },
   "outputs": [],
   "source": []
  }
 ],
 "metadata": {
  "kernelspec": {
   "display_name": "Python 2",
   "language": "python",
   "name": "python2"
  },
  "language_info": {
   "codemirror_mode": {
    "name": "ipython",
    "version": 2
   },
   "file_extension": ".py",
   "mimetype": "text/x-python",
   "name": "python",
   "nbconvert_exporter": "python",
   "pygments_lexer": "ipython2",
   "version": "2.7.10"
  }
 },
 "nbformat": 4,
 "nbformat_minor": 0
}
