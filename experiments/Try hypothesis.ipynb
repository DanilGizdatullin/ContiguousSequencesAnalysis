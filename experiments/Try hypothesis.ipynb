{
 "cells": [
  {
   "cell_type": "code",
   "execution_count": 1,
   "metadata": {
    "collapsed": true
   },
   "outputs": [],
   "source": [
    "import matplotlib.pyplot as plt\n",
    "import numpy as np"
   ]
  },
  {
   "cell_type": "code",
   "execution_count": 2,
   "metadata": {
    "collapsed": true
   },
   "outputs": [],
   "source": [
    "import os, sys\n",
    "\n",
    "lib_path = os.path.abspath(os.path.join('..'))\n",
    "sys.path.append(lib_path)"
   ]
  },
  {
   "cell_type": "code",
   "execution_count": 3,
   "metadata": {
    "collapsed": true
   },
   "outputs": [],
   "source": [
    "from usa.reader import ReadFromCSV\n",
    "from usa.classifier import ClassifierBySequencePatterns, ClassifierByClosureSequencePatterns, ClassifierByHypothesisPatterns\n",
    "from usa.metrics import accuracy_score_with_unclassified_objects, tpr_fpr_nonclass, f1_score_nonclass"
   ]
  },
  {
   "cell_type": "code",
   "execution_count": 4,
   "metadata": {
    "collapsed": false
   },
   "outputs": [
    {
     "name": "stdout",
     "output_type": "stream",
     "text": [
      "3205\n"
     ]
    }
   ],
   "source": [
    "file_name = '/Users/danil.gizdatullin/git_projects/HSE/UnbrokenSequenceAnalysis/examples/data/full_data_shuffle.csv'\n",
    "\n",
    "coding_dict={'work': 1, 'separation': 2, 'partner': 3,\n",
    "             'marriage': 4, 'children': 5, 'parting': 6,\n",
    "             'divorce': 7, 'education': 8}\n",
    "\n",
    "reader = ReadFromCSV(file_name, coding_dict)\n",
    "\n",
    "data, label = reader.from_file_to_data_list()\n",
    "\n",
    "size_of_train = int(len(data)*0.66)\n",
    "print(size_of_train)\n",
    "\n",
    "X_train = data[:size_of_train]\n",
    "X_test = data[size_of_train:]\n",
    "\n",
    "y_train = label[:size_of_train]\n",
    "y_test = label[size_of_train:]"
   ]
  },
  {
   "cell_type": "code",
   "execution_count": 7,
   "metadata": {
    "collapsed": true
   },
   "outputs": [],
   "source": [
    "n_objects_in_test_class = len(X_test)"
   ]
  },
  {
   "cell_type": "code",
   "execution_count": 5,
   "metadata": {
    "collapsed": false
   },
   "outputs": [],
   "source": [
    "hypothesis_classifier = ClassifierByHypothesisPatterns(number_of_classes=2, threshold_for_rules=0.000001)"
   ]
  },
  {
   "cell_type": "code",
   "execution_count": 6,
   "metadata": {
    "collapsed": true
   },
   "outputs": [],
   "source": [
    "hypothesis_classifier.fit(X_train, y_train)"
   ]
  },
  {
   "cell_type": "code",
   "execution_count": 8,
   "metadata": {
    "collapsed": true
   },
   "outputs": [],
   "source": [
    "y_pred = hypothesis_classifier.predict(X_test)"
   ]
  },
  {
   "cell_type": "code",
   "execution_count": 9,
   "metadata": {
    "collapsed": false
   },
   "outputs": [
    {
     "name": "stdout",
     "output_type": "stream",
     "text": [
      "(0.72727272727272729, 1366)\n"
     ]
    }
   ],
   "source": [
    "print(accuracy_score_with_unclassified_objects(y_test, y_pred))"
   ]
  },
  {
   "cell_type": "code",
   "execution_count": 10,
   "metadata": {
    "collapsed": false
   },
   "outputs": [
    {
     "name": "stdout",
     "output_type": "stream",
     "text": [
      "[[198  23]\n",
      " [ 55  10]]\n",
      "(0.15384615384615385, 0.10407239819004525, 1366)\n"
     ]
    }
   ],
   "source": [
    "print(tpr_fpr_nonclass(y_test, y_pred))"
   ]
  },
  {
   "cell_type": "code",
   "execution_count": 11,
   "metadata": {
    "collapsed": false
   },
   "outputs": [
    {
     "name": "stdout",
     "output_type": "stream",
     "text": [
      "(0.20408163265306123, 1366)\n"
     ]
    }
   ],
   "source": [
    "print(f1_score_nonclass(y_test, y_pred))"
   ]
  },
  {
   "cell_type": "code",
   "execution_count": null,
   "metadata": {
    "collapsed": true
   },
   "outputs": [],
   "source": []
  }
 ],
 "metadata": {
  "kernelspec": {
   "display_name": "Python 2",
   "language": "python",
   "name": "python2"
  },
  "language_info": {
   "codemirror_mode": {
    "name": "ipython",
    "version": 2
   },
   "file_extension": ".py",
   "mimetype": "text/x-python",
   "name": "python",
   "nbconvert_exporter": "python",
   "pygments_lexer": "ipython2",
   "version": "2.7.10"
  }
 },
 "nbformat": 4,
 "nbformat_minor": 0
}
