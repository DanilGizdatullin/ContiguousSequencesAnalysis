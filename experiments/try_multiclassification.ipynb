{
 "cells": [
  {
   "cell_type": "code",
   "execution_count": 1,
   "metadata": {
    "collapsed": true
   },
   "outputs": [],
   "source": [
    "import matplotlib.pyplot as plt\n",
    "import numpy as np\n",
    "import scipy\n",
    "\n",
    "import os, sys\n",
    "\n",
    "lib_path = os.path.abspath(os.path.join('..'))\n",
    "sys.path.append(lib_path)\n",
    "\n",
    "from usa.reader import ReadFromCSV\n",
    "from usa.classifier import ClassifierBySequencePatterns, ClassifierByClosureSequencePatterns\n",
    "from usa.metrics import accuracy_score_with_unclassified_objects, tpr_fpr_nonclass, f1_score_nonclass\n",
    "\n",
    "%matplotlib inline"
   ]
  },
  {
   "cell_type": "code",
   "execution_count": 2,
   "metadata": {
    "collapsed": false
   },
   "outputs": [],
   "source": [
    "file_name = '../examples/data/location_data.csv'\n",
    "coding_dict={'work': 1, 'sep_from_par': 2, 'partner': 3,\n",
    "             'marriage': 4, 'child': 5, 'break': 6,\n",
    "             'divorce': 7, 'education': 8}\n",
    "\n",
    "reader = ReadFromCSV(file_name, coding_dict)\n",
    "\n",
    "data, label = reader.from_file_to_data_list()\n",
    "\n",
    "size_of_train = int(len(data)*0.66)\n",
    "\n",
    "X_train = data[:size_of_train]\n",
    "X_test = data[size_of_train:]\n",
    "\n",
    "y_train = label[:size_of_train]\n",
    "y_test = label[size_of_train:]"
   ]
  },
  {
   "cell_type": "code",
   "execution_count": 3,
   "metadata": {
    "collapsed": false
   },
   "outputs": [
    {
     "data": {
      "text/plain": [
       "0.9614999999999999"
      ]
     },
     "execution_count": 3,
     "metadata": {},
     "output_type": "execute_result"
    }
   ],
   "source": [
    "len(X_train) * 0.0003"
   ]
  },
  {
   "cell_type": "code",
   "execution_count": 4,
   "metadata": {
    "collapsed": false
   },
   "outputs": [
    {
     "name": "stdout",
     "output_type": "stream",
     "text": [
      "Median = 1.616443\n",
      "Median = 1.879949\n",
      "Median = 1.855927\n",
      "Median = 2.155258\n",
      "Median = 2.383567\n",
      "Median = 1.855927\n",
      "Median = 2.155258\n",
      "Median = 2.714559\n",
      "Median = 1.855927\n",
      "Median = 2.155258\n",
      "Median = 2.925287\n",
      "Median = 1.855927\n",
      "Median = 2.155258\n",
      "Median = 2.925287\n",
      "Median = 1.855927\n",
      "Median = 2.155258\n",
      "Median = 3.426765\n",
      "Median = 3.076621\n",
      "Median = 3.232886\n",
      "Median = 3.900383\n",
      "Median = 3.394237\n",
      "Median = 3.232886\n",
      "Median = 4.875479\n",
      "Median = 3.711853\n",
      "Median = 3.232886\n",
      "Median = 4.875479\n",
      "Median = 3.711853\n",
      "Median = 3.502294\n",
      "Median = 5.429119\n",
      "Median = 3.711853\n",
      "Median = 3.771701\n",
      "Median = 5.429119\n",
      "Median = 3.711853\n",
      "Median = 4.310515\n",
      "Median = 5.429119\n",
      "Median = 3.711853\n",
      "Median = 4.310515\n",
      "Median = 5.429119\n",
      "Median = 3.711853\n",
      "Median = 4.310515\n",
      "Median = 5.429119\n",
      "Median = 6.031762\n",
      "Median = 4.310515\n",
      "Median = 5.429119\n",
      "Median = 6.031762\n",
      "Median = 4.310515\n",
      "Median = 5.429119\n",
      "Median = 6.031762\n",
      "Median = 5.657551\n",
      "Median = 5.429119\n",
      "Median = 6.031762\n",
      "Median = 5.657551\n",
      "Median = 5.429119\n",
      "Median = 6.031762\n",
      "Median = 5.657551\n",
      "Median = 5.429119\n",
      "Median = 6.959725\n",
      "Median = 5.657551\n",
      "Median = 5.429119\n",
      "Median = 6.959725\n"
     ]
    }
   ],
   "source": [
    "y_pred_list = []\n",
    "# for i in (1.00001, 1.5, 2, 5, 10):\n",
    "for i in scipy.linspace(1, 5, 20):\n",
    "    origin_classifier = ClassifierByClosureSequencePatterns(number_of_classes=3,\n",
    "                                                            threshold_for_rules=0.001,\n",
    "                                                            threshold_for_growth_rate=i)\n",
    "    origin_classifier.fit(X_train, y_train)\n",
    "    y_pred = origin_classifier.predict(X_test)\n",
    "    y_pred_list.append(y_pred)"
   ]
  },
  {
   "cell_type": "code",
   "execution_count": 8,
   "metadata": {
    "collapsed": false
   },
   "outputs": [],
   "source": [
    "accuracy = []\n",
    "# tpr_fpr = []\n",
    "# f1 = []\n",
    "\n",
    "for i in y_pred_list:\n",
    "    cur_accuracy = accuracy_score_with_unclassified_objects(y_test, i)\n",
    "#     cur_f1 = f1_score_nonclass(y_test, i)\n",
    "#     cur_tpr_fpr = tpr_fpr_nonclass(y_test, i)\n",
    "    accuracy.append(cur_accuracy)\n",
    "#     f1.append(cur_f1)\n",
    "#     tpr_fpr.append(cur_tpr_fpr)"
   ]
  },
  {
   "cell_type": "code",
   "execution_count": 9,
   "metadata": {
    "collapsed": false
   },
   "outputs": [
    {
     "data": {
      "text/plain": [
       "[(0.37142857142857144, 7),\n",
       " (0.38466711499663753, 165),\n",
       " (0.36460176991150445, 522),\n",
       " (0.39630118890356669, 895),\n",
       " (0.41569282136894825, 1053),\n",
       " (0.47504990019960081, 1151),\n",
       " (0.4669926650366748, 1243),\n",
       " (0.468586387434555, 1270),\n",
       " (0.46478873239436619, 1297),\n",
       " (0.49685534591194969, 1334),\n",
       " (0.49140893470790376, 1361),\n",
       " (0.46992481203007519, 1386),\n",
       " (0.484375, 1396),\n",
       " (0.52360515021459231, 1419),\n",
       " (0.51101321585903081, 1425),\n",
       " (0.51101321585903081, 1425),\n",
       " (0.50454545454545452, 1432),\n",
       " (0.50454545454545452, 1432),\n",
       " (0.50917431192660545, 1434),\n",
       " (0.51152073732718895, 1435)]"
      ]
     },
     "execution_count": 9,
     "metadata": {},
     "output_type": "execute_result"
    }
   ],
   "source": [
    "accuracy"
   ]
  },
  {
   "cell_type": "code",
   "execution_count": 34,
   "metadata": {
    "collapsed": false
   },
   "outputs": [
    {
     "name": "stdout",
     "output_type": "stream",
     "text": [
      "Median = 5.657551\n",
      "Median = 5.429119\n",
      "Median = 6.959725\n"
     ]
    }
   ],
   "source": [
    "origin_classifier = ClassifierByClosureSequencePatterns(number_of_classes=3,\n",
    "                                                        threshold_for_rules=0.001,\n",
    "                                                        threshold_for_growth_rate=5)\n",
    "origin_classifier.fit(X_train, y_train)\n",
    "y_pred = origin_classifier.predict(X_test)"
   ]
  },
  {
   "cell_type": "code",
   "execution_count": 35,
   "metadata": {
    "collapsed": false
   },
   "outputs": [],
   "source": [
    "y_pred_clear = []\n",
    "y_test_clear = []\n",
    "for i in xrange(len(y_pred)):\n",
    "    if y_pred[i] != -1:\n",
    "        y_pred_clear.append(y_pred[i])\n",
    "        y_test_clear.append(y_test[i])"
   ]
  },
  {
   "cell_type": "code",
   "execution_count": 36,
   "metadata": {
    "collapsed": true
   },
   "outputs": [],
   "source": [
    "from sklearn import metrics"
   ]
  },
  {
   "cell_type": "code",
   "execution_count": 37,
   "metadata": {
    "collapsed": false
   },
   "outputs": [
    {
     "data": {
      "text/plain": [
       "0.51152073732718895"
      ]
     },
     "execution_count": 37,
     "metadata": {},
     "output_type": "execute_result"
    }
   ],
   "source": [
    "metrics.accuracy_score(y_test_clear, y_pred_clear)"
   ]
  },
  {
   "cell_type": "code",
   "execution_count": 38,
   "metadata": {
    "collapsed": false
   },
   "outputs": [
    {
     "data": {
      "text/plain": [
       "array([[98, 29, 53],\n",
       "       [ 3,  3,  7],\n",
       "       [ 8,  6, 10]])"
      ]
     },
     "execution_count": 38,
     "metadata": {},
     "output_type": "execute_result"
    }
   ],
   "source": [
    "metrics.confusion_matrix(y_test_clear, y_pred_clear)"
   ]
  },
  {
   "cell_type": "code",
   "execution_count": 39,
   "metadata": {
    "collapsed": false
   },
   "outputs": [
    {
     "data": {
      "text/plain": [
       "180"
      ]
     },
     "execution_count": 39,
     "metadata": {},
     "output_type": "execute_result"
    }
   ],
   "source": [
    "y = map(lambda x: 1 if x == 0 else 0, y_test_clear)\n",
    "sum(y)"
   ]
  },
  {
   "cell_type": "code",
   "execution_count": 40,
   "metadata": {
    "collapsed": false
   },
   "outputs": [
    {
     "data": {
      "text/plain": [
       "13"
      ]
     },
     "execution_count": 40,
     "metadata": {},
     "output_type": "execute_result"
    }
   ],
   "source": [
    "y = map(lambda x: 1 if x == 1 else 0, y_test_clear)\n",
    "sum(y)"
   ]
  },
  {
   "cell_type": "code",
   "execution_count": 41,
   "metadata": {
    "collapsed": false
   },
   "outputs": [
    {
     "data": {
      "text/plain": [
       "24"
      ]
     },
     "execution_count": 41,
     "metadata": {},
     "output_type": "execute_result"
    }
   ],
   "source": [
    "y = map(lambda x: 1 if x == 2 else 0, y_test_clear)\n",
    "sum(y)"
   ]
  },
  {
   "cell_type": "code",
   "execution_count": null,
   "metadata": {
    "collapsed": true
   },
   "outputs": [],
   "source": []
  }
 ],
 "metadata": {
  "kernelspec": {
   "display_name": "Python 2",
   "language": "python",
   "name": "python2"
  },
  "language_info": {
   "codemirror_mode": {
    "name": "ipython",
    "version": 2
   },
   "file_extension": ".py",
   "mimetype": "text/x-python",
   "name": "python",
   "nbconvert_exporter": "python",
   "pygments_lexer": "ipython2",
   "version": "2.7.10"
  }
 },
 "nbformat": 4,
 "nbformat_minor": 0
}
