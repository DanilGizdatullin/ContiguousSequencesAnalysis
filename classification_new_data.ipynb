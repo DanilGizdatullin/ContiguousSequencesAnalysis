{
 "cells": [
  {
   "cell_type": "code",
   "execution_count": 1,
   "metadata": {},
   "outputs": [],
   "source": [
    "import pickle\n",
    "import math\n",
    "import numpy as np"
   ]
  },
  {
   "cell_type": "code",
   "execution_count": 2,
   "metadata": {},
   "outputs": [],
   "source": [
    "import matplotlib.pyplot as plt\n",
    "import matplotlib.cm as cm"
   ]
  },
  {
   "cell_type": "code",
   "execution_count": 3,
   "metadata": {},
   "outputs": [],
   "source": [
    "with open('data/generation_sequences_women_data.pkl', 'rb') as f:\n",
    "    generation_sequences_women_data = pickle.load(f)\n",
    "    \n",
    "with open('data/generation_sequences_women_label.pkl', 'rb') as f:\n",
    "    generation_sequences_women_label = pickle.load(f)\n",
    "    \n",
    "with open('data/generation_sequences_men_data.pkl', 'rb') as f:\n",
    "    generation_sequences_men_data = pickle.load(f)\n",
    "    \n",
    "with open('data/generation_sequences_men_label.pkl', 'rb') as f:\n",
    "    generation_sequences_men_label = pickle.load(f)\n",
    "    \n",
    "with open('data/gender_sequences_data.pkl', 'rb') as f:\n",
    "    genre_sequences_data = pickle.load(f)\n",
    "    \n",
    "with open('data/gender_sequences_label.pkl', 'rb') as f:\n",
    "    genre_sequences_label = pickle.load(f)"
   ]
  },
  {
   "cell_type": "code",
   "execution_count": 4,
   "metadata": {},
   "outputs": [],
   "source": [
    "from gsa.reader import ReadFromCSV\n",
    "from gsa.metrics import accuracy_score_with_unclassified_objects, CostValueAbstainingClassifiers, tpr_fpr_nonclass\n",
    "from gsa.classifier import ClassifierBySequencePatterns, ClassifierByClosureSequencePatterns,\\\n",
    "    ClassifierByHypothesisPatterns"
   ]
  },
  {
   "cell_type": "markdown",
   "metadata": {},
   "source": [
    "### Classification by Gender\n",
    "Строим классификатор для определния пола"
   ]
  },
  {
   "cell_type": "code",
   "execution_count": 5,
   "metadata": {},
   "outputs": [],
   "source": [
    "data = genre_sequences_data\n",
    "label = genre_sequences_label"
   ]
  },
  {
   "cell_type": "code",
   "execution_count": 6,
   "metadata": {},
   "outputs": [],
   "source": [
    "size_of_train = int(len(data)*0.66)\n",
    "\n",
    "X_train = data[:size_of_train]\n",
    "X_test = data[size_of_train:]\n",
    "\n",
    "y_train = label[:size_of_train]\n",
    "y_test = label[size_of_train:]"
   ]
  },
  {
   "cell_type": "code",
   "execution_count": 7,
   "metadata": {},
   "outputs": [
    {
     "data": {
      "text/plain": [
       "3314"
      ]
     },
     "execution_count": 7,
     "metadata": {},
     "output_type": "execute_result"
    }
   ],
   "source": [
    "sum(label)"
   ]
  },
  {
   "cell_type": "code",
   "execution_count": 8,
   "metadata": {},
   "outputs": [
    {
     "data": {
      "text/plain": [
       "0.5001509206157562"
      ]
     },
     "execution_count": 8,
     "metadata": {},
     "output_type": "execute_result"
    }
   ],
   "source": [
    "sum(label) / len(label)"
   ]
  },
  {
   "cell_type": "code",
   "execution_count": 9,
   "metadata": {},
   "outputs": [
    {
     "data": {
      "text/plain": [
       "0.49805625428767436"
      ]
     },
     "execution_count": 9,
     "metadata": {},
     "output_type": "execute_result"
    }
   ],
   "source": [
    "sum(y_train) / len(y_train)"
   ]
  },
  {
   "cell_type": "code",
   "execution_count": 10,
   "metadata": {},
   "outputs": [
    {
     "data": {
      "text/plain": [
       "0.5042166000887706"
      ]
     },
     "execution_count": 10,
     "metadata": {},
     "output_type": "execute_result"
    }
   ],
   "source": [
    "sum(y_test) / len(y_test)"
   ]
  },
  {
   "cell_type": "code",
   "execution_count": 11,
   "metadata": {},
   "outputs": [
    {
     "name": "stdout",
     "output_type": "stream",
     "text": [
      "min_sup;min_growth_rate;accuracy;TPR;FPR;non_classified_rate\n",
      "0.001;1.5;0.6270368135184068;0.6706875753920386;0.4166666666666667;0.26453617399023527\n",
      "0.001;1.25;0.6034172661870504;0.647373107747106;0.44141689373297005;0.01287172658677319\n",
      "0.001;2;0.6385767790262172;0.6113207547169811;0.3345724907063197;0.525965379494008\n",
      "0.001;2.25;0.6342780026990553;0.561046511627907;0.3022670025188917;0.6711051930758988\n",
      "0.001;3;0.6558139534883721;0.6287128712871287;0.3201754385964912;0.8091433644030182\n",
      "0.001;3.5;0.6943521594684385;0.5725190839694656;0.21176470588235294;0.8664003550821128\n",
      "0.001;5;0.7198067632850241;0.5542168674698795;0.1693548387096774;0.9081225033288948\n",
      "0.001;7;0.7803030303030303;0.6666666666666666;0.14102564102564102;0.9414114513981359\n",
      "0.004;1.5;0.6104844061048441;0.6578599735799208;0.43733333333333335;0.33111407012871724\n",
      "0.004;1.25;0.5901639344262295;0.6663577386468953;0.4876893939393939;0.052374611628939194\n",
      "0.004;2;0.6336154776299879;0.6109785202863962;0.3431372549019608;0.6329338659565025\n",
      "0.004;2.25;0.6319148936170212;0.5829596412556054;0.32388663967611336;0.7913892587660897\n",
      "0.004;3;0.675;0.6410256410256411;0.2926829268292683;0.9289835774522859\n",
      "0.004;3.5;0.7023809523809523;0.34285714285714286;0.04081632653061224;0.96271637816245\n",
      "0.004;5;0.7454545454545455;0.0;0.0;0.9755881047492233\n",
      "0.004;7;0.7;0.0;0.0;0.9911229471815357\n",
      "0.01;1.5;0.6151419558359621;0.6769706336939721;0.4492753623188406;0.4371948513093653\n",
      "0.01;1.25;0.5781172991621488;0.6682785299806576;0.5155778894472361;0.09942299156679982\n",
      "0.01;2;0.6547619047619048;0.6105610561056105;0.2982456140350877;0.7390146471371505\n",
      "0.01;2.25;0.6443768996960486;0.5802469135802469;0.2934131736526946;0.8539724811362628\n",
      "0.01;3;0.6585365853658537;0.7105263157894737;0.38636363636363635;0.9636040834442965\n",
      "0.01;3.5;0.6190476190476191;0.0;0.0;0.9906790945406125\n",
      "0.01;5;0.7777777777777778;0.0;0.0;0.996005326231691\n"
     ]
    },
    {
     "name": "stderr",
     "output_type": "stream",
     "text": [
      "/Users/dgizdatullin/.pyenv/versions/common3/lib/python3.6/site-packages/numpy/lib/function_base.py:356: RuntimeWarning: Mean of empty slice.\n",
      "  avg = a.mean(axis)\n",
      "/Users/dgizdatullin/.pyenv/versions/common3/lib/python3.6/site-packages/numpy/core/_methods.py:85: RuntimeWarning: invalid value encountered in double_scalars\n",
      "  ret = ret.dtype.type(ret / rcount)\n"
     ]
    },
    {
     "name": "stdout",
     "output_type": "stream",
     "text": [
      "0.025;1.5;0.6165228113440198;0.6872037914691943;0.4601542416452442;0.6400355082112739\n",
      "0.025;1.25;0.5749588138385503;0.6764069264069265;0.5295429208472687;0.19174434087882822\n",
      "0.025;2;0.6781002638522428;0.772093023255814;0.4451219512195122;0.831779849090102\n",
      "0.04;1.5;0.6212389380530974;0.6037037037037037;0.36271186440677966;0.7492232578783844\n",
      "0.04;1.25;0.5741822429906542;0.6802800466744457;0.5321637426900585;0.2401242787394585\n",
      "0.04;2;0.6595744680851063;0.72;0.4090909090909091;0.8539724811362628\n",
      "0.05;1.5;0.6081730769230769;0.5502645502645502;0.3436123348017621;0.8153573013759432\n",
      "0.05;1.25;0.5622025832766825;0.7523302263648469;0.6361111111111111;0.3470927652019529\n",
      "0.1;1.25;0.5481002425222312;0.8483483483483484;0.8021015761821366;0.4509542831779849\n"
     ]
    }
   ],
   "source": [
    "tpr_list = []\n",
    "fpr_list = []\n",
    "non_cl_rate_list = []\n",
    "print('min_sup;min_growth_rate;accuracy;TPR;FPR;non_classified_rate')\n",
    "for min_sup in [0.001, 0.004, 0.01, 0.025, 0.04, 0.05, 0.1]:\n",
    "    for min_growth_rate in [1.5, 1.25, 2, 2.25, 3, 3.5, 5, 7]:\n",
    "        classifier = ClassifierByClosureSequencePatterns(number_of_classes=2,\n",
    "                                                     threshold_for_rules=min_sup,\n",
    "                                                     threshold_for_growth_rate=min_growth_rate)\n",
    "        classifier.fit(X_train, y_train)\n",
    "        test_pred = classifier.predict(X_test)\n",
    "        acc, non_cl_num = accuracy_score_with_unclassified_objects(y_test, test_pred)\n",
    "        tpr, fpr, _ = tpr_fpr_nonclass(y_test, test_pred)\n",
    "        if not math.isnan(acc) and not(tpr == fpr == 1.0):\n",
    "            tpr_list.append(tpr)\n",
    "            fpr_list.append(fpr)\n",
    "            non_cl_rate_list.append(non_cl_num/len(y_test))\n",
    "            print(f'{min_sup};{min_growth_rate};{acc};{tpr};{fpr};{non_cl_num/len(y_test)}')"
   ]
  },
  {
   "cell_type": "code",
   "execution_count": 12,
   "metadata": {},
   "outputs": [],
   "source": [
    "from matplotlib.patches import Ellipse"
   ]
  },
  {
   "cell_type": "code",
   "execution_count": 13,
   "metadata": {},
   "outputs": [
    {
     "data": {
      "image/png": "[encoded data removed]",
      "text/plain": [
       "<Figure size 432x288 with 1 Axes>"
      ]
     },
     "metadata": {
      "needs_background": "light"
     },
     "output_type": "display_data"
    }
   ],
   "source": [
    "fig = plt.figure()\n",
    "ax = fig.gca()\n",
    "ax.set_xticks(np.arange(0, 1, 0.1))\n",
    "ax.set_yticks(np.arange(0, 1., 0.1))\n",
    "ax.set_aspect('equal', adjustable='box')\n",
    "\n",
    "ell = Ellipse((0.17, 0.7), 0.15, 0.15, 0)\n",
    "ell.set_alpha(0.2)\n",
    "ell.set_facecolor('g')\n",
    "ax.add_artist(ell)\n",
    "\n",
    "colors = cm.rainbow(np.linspace(0, 1, len(tpr_list)))\n",
    "plt.plot([0, 1], [0, 1], 'b-')\n",
    "for i in range(len(tpr_list)):\n",
    "    plt.scatter(fpr_list[i], tpr_list[i], color=colors[i], marker='*')\n",
    "plt.grid(linestyle='dotted')\n",
    "plt.xlabel('fpr')\n",
    "plt.ylabel('tpr')\n",
    "# plt.show()\n",
    "plt.savefig('foo.png')"
   ]
  },
  {
   "cell_type": "code",
   "execution_count": 21,
   "metadata": {},
   "outputs": [
    {
     "data": {
      "image/png": "[encoded data removed]",
      "text/plain": [
       "<Figure size 432x288 with 1 Axes>"
      ]
     },
     "metadata": {
      "needs_background": "light"
     },
     "output_type": "display_data"
    }
   ],
   "source": [
    "fig = plt.figure()\n",
    "ax = fig.gca()\n",
    "ax.set_xticks(np.arange(0, 1, 0.1))\n",
    "ax.set_yticks(np.arange(0, 1., 0.1))\n",
    "ax.set_aspect('equal', adjustable='box')\n",
    "\n",
    "ell = Ellipse((0.04, 0.65), 0.2, 0.08, 30)\n",
    "ell.set_alpha(0.2)\n",
    "ell.set_facecolor('g')\n",
    "ax.add_artist(ell)\n",
    "\n",
    "colors = cm.rainbow(np.linspace(0, 1, len(tpr_list)))\n",
    "plt.plot([0, 1], [0, 1], 'b-')\n",
    "for i in range(len(tpr_list)):\n",
    "    plt.scatter(non_cl_rate_list[i], tpr_list[i], color=colors[i], marker='*')\n",
    "plt.grid(linestyle='dotted')\n",
    "plt.xlabel('ncpr')\n",
    "plt.ylabel('tpr')\n",
    "plt.show()"
   ]
  },
  {
   "cell_type": "code",
   "execution_count": 22,
   "metadata": {},
   "outputs": [
    {
     "data": {
      "image/png": "[encoded data removed]",
      "text/plain": [
       "<Figure size 432x288 with 1 Axes>"
      ]
     },
     "metadata": {
      "needs_background": "light"
     },
     "output_type": "display_data"
    }
   ],
   "source": [
    "fig = plt.figure()\n",
    "ax = fig.gca()\n",
    "ax.set_xticks(np.arange(0, 1, 0.1))\n",
    "ax.set_yticks(np.arange(0, 1., 0.1))\n",
    "ax.set_aspect('equal', adjustable='box')\n",
    "\n",
    "ell = Ellipse((0.45, 0.01), 0.1, 0.1, 0)\n",
    "ell.set_alpha(0.2)\n",
    "ell.set_facecolor('g')\n",
    "ax.add_artist(ell)\n",
    "\n",
    "colors = cm.rainbow(np.linspace(0, 1, len(tpr_list)))\n",
    "plt.plot([0, 1], [1, 0], 'b-')\n",
    "for i in range(len(tpr_list)):\n",
    "    plt.scatter(fpr_list[i], non_cl_rate_list[i], color=colors[i], marker='*')\n",
    "plt.grid(linestyle='dotted')\n",
    "plt.xlabel('fpr')\n",
    "plt.ylabel('ncpr')\n",
    "plt.show()"
   ]
  },
  {
   "cell_type": "code",
   "execution_count": 23,
   "metadata": {},
   "outputs": [],
   "source": [
    "classifier = ClassifierByClosureSequencePatterns(number_of_classes=2,\n",
    "                                                 threshold_for_rules=0.001,\n",
    "                                                 threshold_for_growth_rate=7)"
   ]
  },
  {
   "cell_type": "code",
   "execution_count": 24,
   "metadata": {},
   "outputs": [],
   "source": [
    "classifier.fit(X_train, y_train)\n",
    "test_pred = classifier.predict(X_test)\n",
    "gender_0_patterns = classifier.important_rules(0)\n",
    "gender_1_patterns = classifier.important_rules(1)"
   ]
  },
  {
   "cell_type": "markdown",
   "metadata": {},
   "source": [
    "Выбрали паттерны с самым большим growth_rate, при этом удовлетворяющие минимальной поддержке 0.003"
   ]
  },
  {
   "cell_type": "code",
   "execution_count": 25,
   "metadata": {},
   "outputs": [
    {
     "data": {
      "text/plain": [
       "[([['marriage'],\n",
       "   ['separation'],\n",
       "   ['children'],\n",
       "   ['education'],\n",
       "   ['work'],\n",
       "   ['divorce']],\n",
       "  [inf, 0.0036446469248291574]),\n",
       " ([['work'],\n",
       "   ['separation'],\n",
       "   ['partner'],\n",
       "   ['marriage'],\n",
       "   ['children'],\n",
       "   ['education'],\n",
       "   ['parting']],\n",
       "  [inf, 0.0031890660592255125]),\n",
       " ([['separation'],\n",
       "   ['education'],\n",
       "   ['work'],\n",
       "   ['marriage'],\n",
       "   ['children'],\n",
       "   ['divorce'],\n",
       "   ['partner'],\n",
       "   ['parting']],\n",
       "  [inf, 0.0036446469248291574]),\n",
       " ([['marriage'], ['education'], ['separation']], [inf, 0.004100227790432802]),\n",
       " ([['separation'],\n",
       "   ['education'],\n",
       "   ['work'],\n",
       "   ['partner'],\n",
       "   ['parting'],\n",
       "   ['children']],\n",
       "  [inf, 0.0031890660592255125])]"
      ]
     },
     "execution_count": 25,
     "metadata": {},
     "output_type": "execute_result"
    }
   ],
   "source": [
    "sorted((filter(lambda x: x[1][1] > 0.003, gender_0_patterns)), key=lambda x: -x[1][0])[0: 5]"
   ]
  },
  {
   "cell_type": "code",
   "execution_count": 27,
   "metadata": {},
   "outputs": [
    {
     "data": {
      "text/plain": [
       "[([['education'], ['separation'], ['work'], ['marriage'], ['divorce']],\n",
       "  [inf, 0.0032139577594123047]),\n",
       " ([['education'], ['separation'], ['work'], ['partner'], ['parting']],\n",
       "  [inf, 0.0027548209366391185]),\n",
       " ([['separation'],\n",
       "   ['education'],\n",
       "   ['work'],\n",
       "   ['partner'],\n",
       "   ['marriage'],\n",
       "   ['parting'],\n",
       "   ['divorce']],\n",
       "  [inf, 0.002295684113865932])]"
      ]
     },
     "execution_count": 27,
     "metadata": {},
     "output_type": "execute_result"
    }
   ],
   "source": [
    "sorted((filter(lambda x: x[1][1] > 0.002, gender_1_patterns)), key=lambda x: -x[1][0])[0: 5]"
   ]
  },
  {
   "cell_type": "markdown",
   "metadata": {},
   "source": [
    "### Women generations"
   ]
  },
  {
   "cell_type": "code",
   "execution_count": 28,
   "metadata": {},
   "outputs": [],
   "source": [
    "data = generation_sequences_women_data\n",
    "label = generation_sequences_women_label"
   ]
  },
  {
   "cell_type": "code",
   "execution_count": 29,
   "metadata": {},
   "outputs": [
    {
     "data": {
      "text/plain": [
       "1386"
      ]
     },
     "execution_count": 29,
     "metadata": {},
     "output_type": "execute_result"
    }
   ],
   "source": [
    "sum(label)"
   ]
  },
  {
   "cell_type": "code",
   "execution_count": 30,
   "metadata": {},
   "outputs": [
    {
     "data": {
      "text/plain": [
       "0.41847826086956524"
      ]
     },
     "execution_count": 30,
     "metadata": {},
     "output_type": "execute_result"
    }
   ],
   "source": [
    "sum(label) / len(label)"
   ]
  },
  {
   "cell_type": "code",
   "execution_count": 31,
   "metadata": {},
   "outputs": [],
   "source": [
    "size_of_train = int(len(data)*0.66)\n",
    "\n",
    "X_train = data[:size_of_train]\n",
    "X_test = data[size_of_train:]\n",
    "\n",
    "y_train = label[:size_of_train]\n",
    "y_test = label[size_of_train:]"
   ]
  },
  {
   "cell_type": "code",
   "execution_count": 32,
   "metadata": {},
   "outputs": [
    {
     "data": {
      "text/plain": [
       "0.422883295194508"
      ]
     },
     "execution_count": 32,
     "metadata": {},
     "output_type": "execute_result"
    }
   ],
   "source": [
    "sum(y_train) / len(y_train)"
   ]
  },
  {
   "cell_type": "code",
   "execution_count": 33,
   "metadata": {},
   "outputs": [
    {
     "data": {
      "text/plain": [
       "0.40993788819875776"
      ]
     },
     "execution_count": 33,
     "metadata": {},
     "output_type": "execute_result"
    }
   ],
   "source": [
    "sum(y_test) / len(y_test)"
   ]
  },
  {
   "cell_type": "markdown",
   "metadata": {},
   "source": [
    "Tunning minimal support for women"
   ]
  },
  {
   "cell_type": "code",
   "execution_count": 34,
   "metadata": {},
   "outputs": [
    {
     "name": "stdout",
     "output_type": "stream",
     "text": [
      "min_sup;accuracy;TPR;FPR;non_classified_rate\n",
      "0.001;0.6166666666666667;0.4876712328767123;0.2953271028037383;0.20141969831410825\n",
      "0.004;0.6282352941176471;0.5086206896551724;0.28884462151394424;0.24578527062999111\n",
      "0.01;0.6333333333333333;0.503030303030303;0.27708333333333335;0.28127772848269744\n",
      "0.025;0.6505681818181818;0.47058823529411764;0.22409638554216868;0.37533274179236914\n",
      "0.04;0.6611295681063123;0.43037974683544306;0.18904109589041096;0.4658385093167702\n",
      "0.05;0.6608996539792388;0.3891402714932127;0.17086834733893558;0.487133984028394\n",
      "0.1;0.6956521739130435;0.0;0.0;0.6938775510204082\n"
     ]
    }
   ],
   "source": [
    "print('min_sup;accuracy;TPR;FPR;non_classified_rate')\n",
    "for min_sup in [0.001, 0.004, 0.01, 0.025, 0.04, 0.05, 0.1]:\n",
    "    classifier = ClassifierByClosureSequencePatterns(number_of_classes=2,\n",
    "                                                     threshold_for_rules=min_sup,\n",
    "                                                     threshold_for_growth_rate=1.5)\n",
    "    classifier.fit(X_train, y_train)\n",
    "    test_pred = classifier.predict(X_test)\n",
    "    acc, non_cl_num = accuracy_score_with_unclassified_objects(y_test, test_pred)\n",
    "    tpr, fpr, _ = tpr_fpr_nonclass(y_test, test_pred)\n",
    "    if not math.isnan(acc) and not(tpr == fpr == 1.0):\n",
    "        print(f'{min_sup};{acc};{tpr};{fpr};{non_cl_num/len(y_test)}')"
   ]
  },
  {
   "cell_type": "markdown",
   "metadata": {},
   "source": [
    "Tuning of minimal growth rate for women"
   ]
  },
  {
   "cell_type": "code",
   "execution_count": 35,
   "metadata": {},
   "outputs": [
    {
     "name": "stdout",
     "output_type": "stream",
     "text": [
      "min_growth_rate;accuracy;TPR;FPR;non_classified_rate\n",
      "1.5;0.6282352941176471;0.5086206896551724;0.28884462151394424;0.24578527062999111\n",
      "2;0.6793478260869565;0.5483870967741935;0.23582089552238805;0.5102040816326531\n",
      "2.25;0.7071428571428572;0.6149068322981367;0.23552123552123552;0.6273291925465838\n",
      "3;0.6910569105691057;0.6767676767676768;0.29931972789115646;0.7817213842058562\n",
      "5;0.7029702970297029;0.8125;0.39622641509433965;0.9103815439219166\n",
      "7;0.6888888888888889;0.85;0.44;0.9600709849157054\n"
     ]
    }
   ],
   "source": [
    "print('min_growth_rate;accuracy;TPR;FPR;non_classified_rate')\n",
    "for min_growth_rate in [1.5, 2, 2.25, 3, 5, 7]:\n",
    "    classifier = ClassifierByClosureSequencePatterns(number_of_classes=2,\n",
    "                                                 threshold_for_rules=0.004,\n",
    "                                                 threshold_for_growth_rate=min_growth_rate)\n",
    "    classifier.fit(X_train, y_train)\n",
    "    test_pred = classifier.predict(X_test)\n",
    "    acc, non_cl_num = accuracy_score_with_unclassified_objects(y_test, test_pred)\n",
    "    tpr, fpr, _ = tpr_fpr_nonclass(y_test, test_pred)\n",
    "    print(f'{min_growth_rate};{acc};{tpr};{fpr};{non_cl_num/len(y_test)}')"
   ]
  },
  {
   "cell_type": "code",
   "execution_count": 36,
   "metadata": {},
   "outputs": [
    {
     "name": "stdout",
     "output_type": "stream",
     "text": [
      "0.7071428571428572 0.6149068322981367 0.23552123552123552 0.6273291925465838\n"
     ]
    }
   ],
   "source": [
    "classifier = ClassifierByClosureSequencePatterns(number_of_classes=2,\n",
    "                                                 threshold_for_rules=0.004,\n",
    "                                                 threshold_for_growth_rate=2.25)\n",
    "classifier.fit(X_train, y_train)\n",
    "test_pred = classifier.predict(X_test)\n",
    "acc, non_cl_num = accuracy_score_with_unclassified_objects(y_test, test_pred)\n",
    "tpr, fpr, _ = tpr_fpr_nonclass(y_test, test_pred)\n",
    "print(acc, tpr, fpr, non_cl_num/len(y_test))"
   ]
  },
  {
   "cell_type": "code",
   "execution_count": 37,
   "metadata": {},
   "outputs": [],
   "source": [
    "generation_0_patterns = classifier.important_rules(0)\n",
    "generation_1_patterns = classifier.important_rules(1)"
   ]
  },
  {
   "cell_type": "code",
   "execution_count": 38,
   "metadata": {},
   "outputs": [
    {
     "data": {
      "text/plain": [
       "[([['work'], ['separation'], ['education'], ['children']],\n",
       "  [8.060269627279936, 0.008723235527359239]),\n",
       " ([['work'], ['education'], ['separation'], ['children']],\n",
       "  [7.32751784298176, 0.007930214115781126]),\n",
       " ([['work'], ['education'], ['marriage'], ['children'], ['separation']],\n",
       "  [5.862014274385407, 0.0190325138778747]),\n",
       " ([['work'], ['marriage'], ['separation'], ['education'], ['children']],\n",
       "  [5.49563838223632, 0.011895321173671689]),\n",
       " ([['education'], ['work'], ['separation'], ['marriage']],\n",
       "  [4.559344435633096, 0.04440919904837431]),\n",
       " ([['education'], ['work'], ['separation'], ['marriage'], ['children']],\n",
       "  [4.396510705789056, 0.0380650277557494]),\n",
       " ([['work'], ['marriage'], ['separation'], ['education']],\n",
       "  [4.152260111022998, 0.013481363996827915]),\n",
       " ([['work'], ['education'], ['marriage'], ['children']],\n",
       "  [3.7858842188739095, 0.02458366375892149]),\n",
       " ([['education'], ['separation'], ['work'], ['marriage'], ['children']],\n",
       "  [3.4195083267248214, 0.011102299762093577]),\n",
       " ([['work'], ['separation'], ['education'], ['marriage']],\n",
       "  [3.297383029341792, 0.02141157811260904])]"
      ]
     },
     "execution_count": 38,
     "metadata": {},
     "output_type": "execute_result"
    }
   ],
   "source": [
    "sorted((filter(lambda x: x[1][1] > 0.007, generation_0_patterns)), key=lambda x: -x[1][0])[0: 10]"
   ]
  },
  {
   "cell_type": "code",
   "execution_count": 39,
   "metadata": {},
   "outputs": [
    {
     "data": {
      "text/plain": [
       "[([['partner'], ['separation'], ['work']], [inf, 0.007575757575757576]),\n",
       " ([['marriage'], ['separation'], ['education'], ['children']],\n",
       "  [17.741341991341994, 0.01406926406926407]),\n",
       " ([['marriage'], ['separation'], ['education'], ['children'], ['work']],\n",
       "  [15.011904761904761, 0.011904761904761904]),\n",
       " ([['partner'], ['marriage'], ['children']],\n",
       "  [13.647186147186147, 0.010822510822510822]),\n",
       " ([['partner'], ['education'], ['work']],\n",
       "  [12.282467532467532, 0.00974025974025974]),\n",
       " ([['partner'], ['education']], [9.553030303030303, 0.015151515151515152]),\n",
       " ([['partner'], ['work']], [6.141233766233766, 0.00974025974025974]),\n",
       " ([['partner']], [5.198928056070913, 0.08658008658008658]),\n",
       " ([['partner'], ['marriage']], [5.003968253968254, 0.023809523809523808]),\n",
       " ([['work'], ['partner'], ['marriage'], ['separation']],\n",
       "  [4.776515151515151, 0.007575757575757576])]"
      ]
     },
     "execution_count": 39,
     "metadata": {},
     "output_type": "execute_result"
    }
   ],
   "source": [
    "sorted((filter(lambda x: x[1][1] > 0.007, generation_1_patterns)), key=lambda x: -x[1][0])[0: 10]"
   ]
  },
  {
   "cell_type": "markdown",
   "metadata": {},
   "source": [
    "### Men generations"
   ]
  },
  {
   "cell_type": "code",
   "execution_count": 40,
   "metadata": {},
   "outputs": [],
   "source": [
    "data = generation_sequences_men_data\n",
    "label = generation_sequences_men_label"
   ]
  },
  {
   "cell_type": "code",
   "execution_count": 41,
   "metadata": {},
   "outputs": [],
   "source": [
    "size_of_train = int(len(data)*0.66)\n",
    "\n",
    "X_train = data[:size_of_train]\n",
    "X_test = data[size_of_train:]\n",
    "\n",
    "y_train = label[:size_of_train]\n",
    "y_test = label[size_of_train:]"
   ]
  },
  {
   "cell_type": "code",
   "execution_count": 42,
   "metadata": {},
   "outputs": [
    {
     "data": {
      "text/plain": [
       "1711"
      ]
     },
     "execution_count": 42,
     "metadata": {},
     "output_type": "execute_result"
    }
   ],
   "source": [
    "sum(label)"
   ]
  },
  {
   "cell_type": "code",
   "execution_count": 43,
   "metadata": {},
   "outputs": [
    {
     "data": {
      "text/plain": [
       "0.5208047553726566"
      ]
     },
     "execution_count": 43,
     "metadata": {},
     "output_type": "execute_result"
    }
   ],
   "source": [
    "sum(y_train) / len(y_train)"
   ]
  },
  {
   "cell_type": "code",
   "execution_count": 44,
   "metadata": {},
   "outputs": [
    {
     "data": {
      "text/plain": [
       "0.5075421472937001"
      ]
     },
     "execution_count": 44,
     "metadata": {},
     "output_type": "execute_result"
    }
   ],
   "source": [
    "sum(y_test) / len(y_test)"
   ]
  },
  {
   "cell_type": "markdown",
   "metadata": {},
   "source": [
    "Tunning minimal support for men"
   ]
  },
  {
   "cell_type": "code",
   "execution_count": 45,
   "metadata": {},
   "outputs": [
    {
     "name": "stdout",
     "output_type": "stream",
     "text": [
      "min_sup;accuracy;TPR;FPR;non_classified_rate\n",
      "0.001;0.7032854209445585;0.587991718426501;0.18329938900203666;0.13575865128660158\n",
      "0.004;0.6901709401709402;0.5783898305084746;0.1961206896551724;0.16947648624667258\n",
      "0.01;0.6774193548387096;0.528604118993135;0.1716937354988399;0.22981366459627328\n",
      "0.025;0.6744791666666666;0.48404255319148937;0.14285714285714285;0.318544809228039\n",
      "0.04;0.6641366223908919;0.3416666666666667;0.06620209059233449;0.5323868677905945\n",
      "0.05;0.6641366223908919;0.3416666666666667;0.06620209059233449;0.5323868677905945\n"
     ]
    }
   ],
   "source": [
    "print('min_sup;accuracy;TPR;FPR;non_classified_rate')\n",
    "for min_sup in [0.001, 0.004, 0.01, 0.025, 0.04, 0.05, 0.1]:\n",
    "    classifier = ClassifierByClosureSequencePatterns(number_of_classes=2,\n",
    "                                                     threshold_for_rules=min_sup,\n",
    "                                                     threshold_for_growth_rate=1.5)\n",
    "    classifier.fit(X_train, y_train)\n",
    "    test_pred = classifier.predict(X_test)\n",
    "    acc, non_cl_num = accuracy_score_with_unclassified_objects(y_test, test_pred)\n",
    "    tpr, fpr, _ = tpr_fpr_nonclass(y_test, test_pred)\n",
    "    if not math.isnan(acc) and not(tpr == fpr == 1.0):\n",
    "        print(f'{min_sup};{acc};{tpr};{fpr};{non_cl_num/len(y_test)}')"
   ]
  },
  {
   "cell_type": "markdown",
   "metadata": {},
   "source": [
    "Tuning of minimal growth rate for men"
   ]
  },
  {
   "cell_type": "code",
   "execution_count": 46,
   "metadata": {},
   "outputs": [
    {
     "name": "stdout",
     "output_type": "stream",
     "text": [
      "min_growth_rate;accuracy;TPR;FPR;non_classified_rate\n",
      "1.5;0.7032854209445585;0.587991718426501;0.18329938900203666;0.13575865128660158\n",
      "2;0.7581967213114754;0.7317073170731707;0.21487603305785125;0.35048802129547474\n",
      "2.25;0.7668810289389068;0.7378640776699029;0.20447284345047922;0.44809228039041704\n",
      "3;0.8283752860411899;0.8214285714285714;0.1643192488262911;0.6122448979591837\n",
      "5;0.8992537313432836;0.9006622516556292;0.10256410256410256;0.7622005323868678\n",
      "7;0.9177489177489178;0.935251798561151;0.10869565217391304;0.7950310559006211\n"
     ]
    }
   ],
   "source": [
    "print('min_growth_rate;accuracy;TPR;FPR;non_classified_rate')\n",
    "for min_growth_rate in [1.5, 2, 2.25, 3, 5, 7]:\n",
    "    classifier = ClassifierByClosureSequencePatterns(number_of_classes=2,\n",
    "                                                 threshold_for_rules=0.001,\n",
    "                                                 threshold_for_growth_rate=min_growth_rate)\n",
    "    classifier.fit(X_train, y_train)\n",
    "    test_pred = classifier.predict(X_test)\n",
    "    acc, non_cl_num = accuracy_score_with_unclassified_objects(y_test, test_pred)\n",
    "    tpr, fpr, _ = tpr_fpr_nonclass(y_test, test_pred)\n",
    "    print(f'{min_growth_rate};{acc};{tpr};{fpr};{non_cl_num/len(y_test)}')"
   ]
  },
  {
   "cell_type": "code",
   "execution_count": 47,
   "metadata": {},
   "outputs": [
    {
     "name": "stdout",
     "output_type": "stream",
     "text": [
      "0.7668810289389068 0.7378640776699029 0.20447284345047922 0.44809228039041704\n"
     ]
    }
   ],
   "source": [
    "classifier = ClassifierByClosureSequencePatterns(number_of_classes=2,\n",
    "                                                 threshold_for_rules=0.001,\n",
    "                                                 threshold_for_growth_rate=2.25)\n",
    "classifier.fit(X_train, y_train)\n",
    "test_pred = classifier.predict(X_test)\n",
    "acc, non_cl_num = accuracy_score_with_unclassified_objects(y_test, test_pred)\n",
    "tpr, fpr, _ = tpr_fpr_nonclass(y_test, test_pred)\n",
    "print(acc, tpr, fpr, non_cl_num/len(y_test))"
   ]
  },
  {
   "cell_type": "code",
   "execution_count": 48,
   "metadata": {},
   "outputs": [],
   "source": [
    "generation_0_patterns = classifier.important_rules(0)\n",
    "generation_1_patterns = classifier.important_rules(1)"
   ]
  },
  {
   "cell_type": "code",
   "execution_count": 49,
   "metadata": {},
   "outputs": [
    {
     "data": {
      "text/plain": [
       "[([['work'], ['marriage'], ['children'], ['education'], ['separation']],\n",
       "  [8.33237913486005, 0.02194656488549618]),\n",
       " ([['work'], ['marriage'], ['children'], ['education']],\n",
       "  [5.434160305343512, 0.02385496183206107]),\n",
       " ([['work'], ['separation'], ['marriage'], ['children'], ['education']],\n",
       "  [4.347328244274809, 0.03435114503816794]),\n",
       " ([['work'], ['marriage'], ['children']],\n",
       "  [3.8039122137404577, 0.04007633587786259]),\n",
       " ([['work'], ['separation'], ['marriage']],\n",
       "  [3.6680582061068705, 0.05152671755725191]),\n",
       " ([['separation'], ['work'], ['education'], ['marriage'], ['children']],\n",
       "  [3.260496183206107, 0.03435114503816794]),\n",
       " ([['separation'], ['marriage'], ['education']],\n",
       "  [3.2604961832061066, 0.020038167938931296]),\n",
       " ([['separation'], ['work'], ['education'], ['marriage']],\n",
       "  [3.1828653217011995, 0.039122137404580155]),\n",
       " ([['work'], ['education'], ['marriage'], ['children'], ['separation']],\n",
       "  [2.6851145038167936, 0.04007633587786259]),\n",
       " ([['work'], ['marriage']], [2.476966092668205, 0.09351145038167939])]"
      ]
     },
     "execution_count": 49,
     "metadata": {},
     "output_type": "execute_result"
    }
   ],
   "source": [
    "sorted((filter(lambda x: x[1][1] > 0.02, generation_0_patterns)), key=lambda x: -x[1][0])[0: 10]"
   ]
  },
  {
   "cell_type": "code",
   "execution_count": 50,
   "metadata": {},
   "outputs": [
    {
     "data": {
      "text/plain": [
       "[([['education'],\n",
       "   ['work'],\n",
       "   ['partner'],\n",
       "   ['separation'],\n",
       "   ['marriage'],\n",
       "   ['children']],\n",
       "  [inf, 0.021071115013169446]),\n",
       " ([['education'], ['work'], ['partner'], ['separation'], ['marriage']],\n",
       "  [23.002633889376646, 0.021949078138718173]),\n",
       " ([['education'], ['work'], ['partner'], ['separation']],\n",
       "  [4.945566286215979, 0.03775241439859526]),\n",
       " ([['education'], ['marriage']], [3.114202741946377, 0.038630377524143986]),\n",
       " ([['work'], ['education'], ['partner']],\n",
       "  [2.972648071857905, 0.03687445127304653]),\n",
       " ([['partner']], [2.5479840615924902, 0.03160667251975417]),\n",
       " ([['education'], ['work'], ['separation'], ['partner']],\n",
       "  [2.3309335674568334, 0.033362598770851626])]"
      ]
     },
     "execution_count": 50,
     "metadata": {},
     "output_type": "execute_result"
    }
   ],
   "source": [
    "sorted((filter(lambda x: x[1][1] > 0.02, generation_1_patterns)), key=lambda x: -x[1][0])[0: 10]"
   ]
  },
  {
   "cell_type": "code",
   "execution_count": null,
   "metadata": {},
   "outputs": [],
   "source": []
  }
 ],
 "metadata": {
  "kernelspec": {
   "display_name": "Python (common36)",
   "language": "python",
   "name": "common36"
  },
  "language_info": {
   "codemirror_mode": {
    "name": "ipython",
    "version": 3
   },
   "file_extension": ".py",
   "mimetype": "text/x-python",
   "name": "python",
   "nbconvert_exporter": "python",
   "pygments_lexer": "ipython3",
   "version": "3.6.6"
  }
 },
 "nbformat": 4,
 "nbformat_minor": 2
}
