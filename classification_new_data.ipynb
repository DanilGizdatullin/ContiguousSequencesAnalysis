{
 "cells": [
  {
   "cell_type": "code",
   "execution_count": 1,
   "metadata": {},
   "outputs": [],
   "source": [
    "import pickle\n",
    "import math\n",
    "import numpy as np"
   ]
  },
  {
   "cell_type": "code",
   "execution_count": 2,
   "metadata": {},
   "outputs": [],
   "source": [
    "import matplotlib.pyplot as plt\n",
    "import matplotlib.cm as cm"
   ]
  },
  {
   "cell_type": "code",
   "execution_count": 3,
   "metadata": {},
   "outputs": [],
   "source": [
    "with open('data/generation_sequences_women_data.pkl', 'rb') as f:\n",
    "    generation_sequences_women_data = pickle.load(f)\n",
    "    \n",
    "with open('data/generation_sequences_women_label.pkl', 'rb') as f:\n",
    "    generation_sequences_women_label = pickle.load(f)\n",
    "    \n",
    "with open('data/generation_sequences_men_data.pkl', 'rb') as f:\n",
    "    generation_sequences_men_data = pickle.load(f)\n",
    "    \n",
    "with open('data/generation_sequences_men_label.pkl', 'rb') as f:\n",
    "    generation_sequences_men_label = pickle.load(f)\n",
    "    \n",
    "with open('data/gender_sequences_data.pkl', 'rb') as f:\n",
    "    genre_sequences_data = pickle.load(f)\n",
    "    \n",
    "with open('data/gender_sequences_label.pkl', 'rb') as f:\n",
    "    genre_sequences_label = pickle.load(f)"
   ]
  },
  {
   "cell_type": "code",
   "execution_count": 4,
   "metadata": {},
   "outputs": [],
   "source": [
    "from gsa.reader import ReadFromCSV\n",
    "from gsa.metrics import accuracy_score_with_unclassified_objects, CostValueAbstainingClassifiers, tpr_fpr_nonclass\n",
    "from gsa.classifier import ClassifierBySequencePatterns, ClassifierByClosureSequencePatterns,\\\n",
    "    ClassifierByHypothesisPatterns"
   ]
  },
  {
   "cell_type": "markdown",
   "metadata": {},
   "source": [
    "### Classification by Gender\n",
    "Строим классификатор для определния пола"
   ]
  },
  {
   "cell_type": "code",
   "execution_count": 5,
   "metadata": {},
   "outputs": [],
   "source": [
    "data = genre_sequences_data\n",
    "label = genre_sequences_label"
   ]
  },
  {
   "cell_type": "code",
   "execution_count": 6,
   "metadata": {},
   "outputs": [],
   "source": [
    "size_of_train = int(len(data)*0.66)\n",
    "\n",
    "X_train = data[:size_of_train]\n",
    "X_test = data[size_of_train:]\n",
    "\n",
    "y_train = label[:size_of_train]\n",
    "y_test = label[size_of_train:]"
   ]
  },
  {
   "cell_type": "code",
   "execution_count": 7,
   "metadata": {},
   "outputs": [
    {
     "data": {
      "text/plain": [
       "3314"
      ]
     },
     "execution_count": 7,
     "metadata": {},
     "output_type": "execute_result"
    }
   ],
   "source": [
    "sum(label)"
   ]
  },
  {
   "cell_type": "code",
   "execution_count": 8,
   "metadata": {},
   "outputs": [
    {
     "data": {
      "text/plain": [
       "0.5001509206157562"
      ]
     },
     "execution_count": 8,
     "metadata": {},
     "output_type": "execute_result"
    }
   ],
   "source": [
    "sum(label) / len(label)"
   ]
  },
  {
   "cell_type": "code",
   "execution_count": 9,
   "metadata": {},
   "outputs": [
    {
     "data": {
      "text/plain": [
       "0.49668419849073864"
      ]
     },
     "execution_count": 9,
     "metadata": {},
     "output_type": "execute_result"
    }
   ],
   "source": [
    "sum(y_train) / len(y_train)"
   ]
  },
  {
   "cell_type": "code",
   "execution_count": 10,
   "metadata": {},
   "outputs": [
    {
     "data": {
      "text/plain": [
       "0.5068797159343098"
      ]
     },
     "execution_count": 10,
     "metadata": {},
     "output_type": "execute_result"
    }
   ],
   "source": [
    "sum(y_test) / len(y_test)"
   ]
  },
  {
   "cell_type": "code",
   "execution_count": 13,
   "metadata": {},
   "outputs": [
    {
     "name": "stdout",
     "output_type": "stream",
     "text": [
      "min_sup;min_growth_rate;accuracy;TPR;FPR;non_classified_rate\n",
      "0.001;1.5;0.6093432633716994;0.603905160390516;0.38552631578947366;0.3444296493564137\n",
      "0.001;1.25;0.6129032258064516;0.6767983789260384;0.45035105315947843;0.11939636040834443\n",
      "0.001;2;0.635875402792696;0.6644591611479028;0.3912133891213389;0.5867731913004882\n",
      "0.001;2.25;0.6463245492371706;0.631578947368421;0.3403693931398417;0.6799822458943631\n",
      "0.001;3;0.679814385150812;0.576530612244898;0.23404255319148937;0.808699511762095\n",
      "0.001;3.5;0.7033898305084746;0.5512820512820513;0.17676767676767677;0.8428761651131824\n",
      "0.001;5;0.723404255319149;0.5742574257425742;0.16417910447761194;0.8956946293830448\n",
      "0.001;7;0.7734806629834254;0.6883116883116883;0.16346153846153846;0.9196626719928983\n",
      "0.004;1.5;0.6162613981762918;0.5846153846153846;0.35285285285285284;0.415889924545051\n",
      "0.004;1.25;0.6051121544079291;0.6687631027253669;0.45794392523364486;0.14913448735019974\n",
      "0.004;2;0.62339514978602;0.6703601108033241;0.4264705882352941;0.6888592987128274\n",
      "0.004;2.25;0.6286919831223629;0.6512605042016807;0.3940677966101695;0.7896138482023968\n",
      "0.004;3;0.6588235294117647;0.5;0.23;0.9245450510430537\n",
      "0.004;3.5;0.6902654867256637;0.28888888888888886;0.04411764705882353;0.9498446515756769\n",
      "0.004;5;0.6140350877192983;0.045454545454545456;0.02857142857142857;0.9747003994673769\n",
      "0.004;7;0.65;0.14285714285714285;0.07692307692307693;0.9911229471815357\n",
      "0.01;1.5;0.6217821782178218;0.5813953488372093;0.3360323886639676;0.5517088326675543\n",
      "0.01;1.25;0.5866141732283464;0.7180910099889012;0.548460661345496;0.2108300044385264\n",
      "0.01;2;0.6349206349206349;0.711864406779661;0.45365853658536587;0.8042609853528628\n",
      "0.01;2.25;0.6282527881040892;0.7564102564102564;0.5486725663716814;0.8806036395916556\n",
      "0.01;3;0.6730769230769231;0.0;0.0;0.9769196626719929\n",
      "0.01;3.5;0.5666666666666667;0.0;0.0;0.9866844207723036\n",
      "0.01;5;0.5714285714285714;0.0;0.0;0.9906790945406125\n",
      "0.025;1.5;0.6200762388818297;0.5514705882352942;0.30606860158311344;0.650687971593431\n",
      "0.025;1.25;0.5793758480325645;0.7029569892473119;0.5465753424657535;0.3457612072791833\n",
      "0.025;2;0.6549295774647887;0.8554913294797688;0.6576576576576577;0.8739458499778073\n",
      "0.04;1.5;0.6212914485165794;0.4249084249084249;0.2;0.7456724367509987\n",
      "0.04;1.25;0.5803921568627451;0.6764132553606238;0.5167652859960552;0.5472703062583223\n",
      "0.04;2;0.6443514644351465;0.8226950354609929;0.6122448979591837;0.893919218819352\n",
      "0.05;1.5;0.6018735362997658;0.315;0.14537444933920704;0.8104749223257879\n",
      "0.05;1.25;0.5640732265446224;0.6681818181818182;0.5414746543778802;0.6120727918331114\n"
     ]
    }
   ],
   "source": [
    "tpr_list = []\n",
    "fpr_list = []\n",
    "non_cl_rate_list = []\n",
    "print('min_sup;min_growth_rate;accuracy;TPR;FPR;non_classified_rate')\n",
    "for min_sup in [0.001, 0.004, 0.01, 0.025, 0.04, 0.05, 0.1]:\n",
    "    for min_growth_rate in [1.5, 1.25, 2, 2.25, 3, 3.5, 5, 7]:\n",
    "        classifier = ClassifierByClosureSequencePatterns(number_of_classes=2,\n",
    "                                                     threshold_for_rules=min_sup,\n",
    "                                                     threshold_for_growth_rate=min_growth_rate)\n",
    "        classifier.fit(X_train, y_train)\n",
    "        test_pred = classifier.predict(X_test)\n",
    "        acc, non_cl_num = accuracy_score_with_unclassified_objects(y_test, test_pred)\n",
    "        tpr, fpr, _ = tpr_fpr_nonclass(y_test, test_pred)\n",
    "        if not math.isnan(acc) and not(tpr == fpr == 1.0):\n",
    "            tpr_list.append(tpr)\n",
    "            fpr_list.append(fpr)\n",
    "            non_cl_rate_list.append(non_cl_num/len(y_test))\n",
    "            print(f'{min_sup};{min_growth_rate};{acc};{tpr};{fpr};{non_cl_num/len(y_test)}')"
   ]
  },
  {
   "cell_type": "code",
   "execution_count": 14,
   "metadata": {},
   "outputs": [],
   "source": [
    "from matplotlib.patches import Ellipse"
   ]
  },
  {
   "cell_type": "code",
   "execution_count": 15,
   "metadata": {},
   "outputs": [
    {
     "data": {
      "image/png": "[encoded data removed]",
      "text/plain": [
       "<Figure size 432x288 with 1 Axes>"
      ]
     },
     "metadata": {
      "needs_background": "light"
     },
     "output_type": "display_data"
    }
   ],
   "source": [
    "fig = plt.figure()\n",
    "ax = fig.gca()\n",
    "ax.set_xticks(np.arange(0, 1, 0.1))\n",
    "ax.set_yticks(np.arange(0, 1., 0.1))\n",
    "ax.set_aspect('equal', adjustable='box')\n",
    "\n",
    "ell = Ellipse((0.17, 0.7), 0.15, 0.15, 0)\n",
    "ell.set_alpha(0.2)\n",
    "ell.set_facecolor('g')\n",
    "ax.add_artist(ell)\n",
    "\n",
    "colors = cm.rainbow(np.linspace(0, 1, len(tpr_list)))\n",
    "plt.plot([0, 1], [0, 1], 'b-')\n",
    "for i in range(len(tpr_list)):\n",
    "    plt.scatter(fpr_list[i], tpr_list[i], color=colors[i], marker='*')\n",
    "plt.grid(linestyle='dotted')\n",
    "plt.xlabel('fpr')\n",
    "plt.ylabel('tpr')\n",
    "# plt.show()\n",
    "plt.savefig('foo.png')"
   ]
  },
  {
   "cell_type": "code",
   "execution_count": 16,
   "metadata": {},
   "outputs": [
    {
     "data": {
      "image/png": "[encoded data removed]",
      "text/plain": [
       "<Figure size 432x288 with 1 Axes>"
      ]
     },
     "metadata": {
      "needs_background": "light"
     },
     "output_type": "display_data"
    }
   ],
   "source": [
    "fig = plt.figure()\n",
    "ax = fig.gca()\n",
    "ax.set_xticks(np.arange(0, 1, 0.1))\n",
    "ax.set_yticks(np.arange(0, 1., 0.1))\n",
    "ax.set_aspect('equal', adjustable='box')\n",
    "\n",
    "ell = Ellipse((0.17, 0.7), 0.4, 0.08, 30)\n",
    "ell.set_alpha(0.2)\n",
    "ell.set_facecolor('g')\n",
    "ax.add_artist(ell)\n",
    "\n",
    "colors = cm.rainbow(np.linspace(0, 1, len(tpr_list)))\n",
    "plt.plot([0, 1], [0, 1], 'b-')\n",
    "for i in range(len(tpr_list)):\n",
    "    plt.scatter(non_cl_rate_list[i], tpr_list[i], color=colors[i], marker='*')\n",
    "plt.grid(linestyle='dotted')\n",
    "plt.xlabel('ncpr')\n",
    "plt.ylabel('tpr')\n",
    "plt.show()"
   ]
  },
  {
   "cell_type": "code",
   "execution_count": 17,
   "metadata": {},
   "outputs": [
    {
     "data": {
      "image/png": "[encoded data removed]",
      "text/plain": [
       "<Figure size 432x288 with 1 Axes>"
      ]
     },
     "metadata": {
      "needs_background": "light"
     },
     "output_type": "display_data"
    }
   ],
   "source": [
    "fig = plt.figure()\n",
    "ax = fig.gca()\n",
    "ax.set_xticks(np.arange(0, 1, 0.1))\n",
    "ax.set_yticks(np.arange(0, 1., 0.1))\n",
    "ax.set_aspect('equal', adjustable='box')\n",
    "\n",
    "ell = Ellipse((0.45, 0.11), 0.1, 0.1, 0)\n",
    "ell.set_alpha(0.2)\n",
    "ell.set_facecolor('g')\n",
    "ax.add_artist(ell)\n",
    "\n",
    "colors = cm.rainbow(np.linspace(0, 1, len(tpr_list)))\n",
    "plt.plot([0, 1], [1, 0], 'b-')\n",
    "for i in range(len(tpr_list)):\n",
    "    plt.scatter(fpr_list[i], non_cl_rate_list[i], color=colors[i], marker='*')\n",
    "plt.grid(linestyle='dotted')\n",
    "plt.xlabel('fpr')\n",
    "plt.ylabel('ncpr')\n",
    "plt.show()"
   ]
  },
  {
   "cell_type": "code",
   "execution_count": 18,
   "metadata": {},
   "outputs": [],
   "source": [
    "classifier = ClassifierByClosureSequencePatterns(number_of_classes=2,\n",
    "                                                 threshold_for_rules=0.001,\n",
    "                                                 threshold_for_growth_rate=7)"
   ]
  },
  {
   "cell_type": "code",
   "execution_count": 19,
   "metadata": {},
   "outputs": [],
   "source": [
    "classifier.fit(X_train, y_train)\n",
    "test_pred = classifier.predict(X_test)\n",
    "gender_0_patterns = classifier.important_rules(0)\n",
    "gender_1_patterns = classifier.important_rules(1)"
   ]
  },
  {
   "cell_type": "markdown",
   "metadata": {},
   "source": [
    "Выбрали паттерны с самым большим growth_rate, при этом удовлетворяющие минимальной поддержке 0.003"
   ]
  },
  {
   "cell_type": "code",
   "execution_count": 20,
   "metadata": {},
   "outputs": [
    {
     "data": {
      "text/plain": [
       "[([['parting'], ['marriage'], ['education']], [inf, 0.0031803725579282144]),\n",
       " ([['work'], ['separation'], ['marriage'], ['children'], ['divorce']],\n",
       "  [inf, 0.0031803725579282144]),\n",
       " ([['education'], ['parting'], ['work'], ['separation']],\n",
       "  [inf, 0.0031803725579282144]),\n",
       " ([['parting'], ['separation'], ['marriage'], ['children']],\n",
       "  [inf, 0.003634711494775102]),\n",
       " ([['separation'],\n",
       "   ['education'],\n",
       "   ['work'],\n",
       "   ['marriage'],\n",
       "   ['children'],\n",
       "   ['divorce'],\n",
       "   ['parting'],\n",
       "   ['parting']],\n",
       "  [inf, 0.003634711494775102])]"
      ]
     },
     "execution_count": 20,
     "metadata": {},
     "output_type": "execute_result"
    }
   ],
   "source": [
    "sorted((filter(lambda x: x[1][1] > 0.003, gender_0_patterns)), key=lambda x: -x[1][0])[0: 5]"
   ]
  },
  {
   "cell_type": "code",
   "execution_count": 21,
   "metadata": {},
   "outputs": [
    {
     "data": {
      "text/plain": [
       "[([['separation'], ['work'], ['education'], ['marriage'], ['divorce']],\n",
       "  [9.120165745856353, 0.004143646408839779]),\n",
       " ([['separation'],\n",
       "   ['work'],\n",
       "   ['education'],\n",
       "   ['parting'],\n",
       "   ['children'],\n",
       "   ['marriage']],\n",
       "  [8.10681399631676, 0.003683241252302026]),\n",
       " ([['work'],\n",
       "   ['education'],\n",
       "   ['parting'],\n",
       "   ['children'],\n",
       "   ['marriage'],\n",
       "   ['separation']],\n",
       "  [8.10681399631676, 0.003683241252302026]),\n",
       " ([['education'], ['separation'], ['marriage'], ['children'], ['work']],\n",
       "  [7.093462246777165, 0.0032228360957642726]),\n",
       " ([['work'],\n",
       "   ['separation'],\n",
       "   ['parting'],\n",
       "   ['children'],\n",
       "   ['marriage'],\n",
       "   ['education']],\n",
       "  [7.093462246777165, 0.0032228360957642726])]"
      ]
     },
     "execution_count": 21,
     "metadata": {},
     "output_type": "execute_result"
    }
   ],
   "source": [
    "sorted((filter(lambda x: x[1][1] > 0.003, gender_1_patterns)), key=lambda x: -x[1][0])[0: 5]"
   ]
  },
  {
   "cell_type": "markdown",
   "metadata": {},
   "source": [
    "### Women generations"
   ]
  },
  {
   "cell_type": "code",
   "execution_count": 22,
   "metadata": {},
   "outputs": [],
   "source": [
    "data = generation_sequences_women_data\n",
    "label = generation_sequences_women_label"
   ]
  },
  {
   "cell_type": "code",
   "execution_count": 23,
   "metadata": {},
   "outputs": [
    {
     "data": {
      "text/plain": [
       "1386"
      ]
     },
     "execution_count": 23,
     "metadata": {},
     "output_type": "execute_result"
    }
   ],
   "source": [
    "sum(label)"
   ]
  },
  {
   "cell_type": "code",
   "execution_count": 24,
   "metadata": {},
   "outputs": [
    {
     "data": {
      "text/plain": [
       "0.41847826086956524"
      ]
     },
     "execution_count": 24,
     "metadata": {},
     "output_type": "execute_result"
    }
   ],
   "source": [
    "sum(label) / len(label)"
   ]
  },
  {
   "cell_type": "code",
   "execution_count": 25,
   "metadata": {},
   "outputs": [],
   "source": [
    "size_of_train = int(len(data)*0.66)\n",
    "\n",
    "X_train = data[:size_of_train]\n",
    "X_test = data[size_of_train:]\n",
    "\n",
    "y_train = label[:size_of_train]\n",
    "y_test = label[size_of_train:]"
   ]
  },
  {
   "cell_type": "code",
   "execution_count": 26,
   "metadata": {},
   "outputs": [
    {
     "data": {
      "text/plain": [
       "0.41464530892448515"
      ]
     },
     "execution_count": 26,
     "metadata": {},
     "output_type": "execute_result"
    }
   ],
   "source": [
    "sum(y_train) / len(y_train)"
   ]
  },
  {
   "cell_type": "code",
   "execution_count": 27,
   "metadata": {},
   "outputs": [
    {
     "data": {
      "text/plain": [
       "0.4259094942324756"
      ]
     },
     "execution_count": 27,
     "metadata": {},
     "output_type": "execute_result"
    }
   ],
   "source": [
    "sum(y_test) / len(y_test)"
   ]
  },
  {
   "cell_type": "markdown",
   "metadata": {},
   "source": [
    "Tunning minimal support for women"
   ]
  },
  {
   "cell_type": "code",
   "execution_count": 28,
   "metadata": {},
   "outputs": [
    {
     "name": "stdout",
     "output_type": "stream",
     "text": [
      "min_sup;accuracy;TPR;FPR;non_classified_rate\n",
      "0.001;0.6;0.5231607629427792;0.34555984555984554;0.21472937000887313\n",
      "0.004;0.6142857142857143;0.5352112676056338;0.32783505154639175;0.2546583850931677\n",
      "0.01;0.6268260292164675;0.49683544303797467;0.2791762013729977;0.3318544809228039\n",
      "0.025;0.629080118694362;0.45907473309608543;0.24936386768447838;0.40195208518189884\n",
      "0.04;0.6557093425605537;0.4;0.16272189349112426;0.487133984028394\n",
      "0.05;0.6576576576576577;0.36283185840707965;0.1398176291793313;0.5075421472937001\n",
      "0.1;0.6581395348837209;0.296969696969697;0.1169811320754717;0.6184560780834073\n"
     ]
    }
   ],
   "source": [
    "print('min_sup;accuracy;TPR;FPR;non_classified_rate')\n",
    "for min_sup in [0.001, 0.004, 0.01, 0.025, 0.04, 0.05, 0.1]:\n",
    "    classifier = ClassifierByClosureSequencePatterns(number_of_classes=2,\n",
    "                                                     threshold_for_rules=min_sup,\n",
    "                                                     threshold_for_growth_rate=1.5)\n",
    "    classifier.fit(X_train, y_train)\n",
    "    test_pred = classifier.predict(X_test)\n",
    "    acc, non_cl_num = accuracy_score_with_unclassified_objects(y_test, test_pred)\n",
    "    tpr, fpr, _ = tpr_fpr_nonclass(y_test, test_pred)\n",
    "    if not math.isnan(acc) and not(tpr == fpr == 1.0):\n",
    "        print(f'{min_sup};{acc};{tpr};{fpr};{non_cl_num/len(y_test)}')"
   ]
  },
  {
   "cell_type": "markdown",
   "metadata": {},
   "source": [
    "Tuning of minimal growth rate for women"
   ]
  },
  {
   "cell_type": "code",
   "execution_count": 29,
   "metadata": {},
   "outputs": [
    {
     "name": "stdout",
     "output_type": "stream",
     "text": [
      "min_growth_rate;accuracy;TPR;FPR;non_classified_rate\n",
      "1.5;0.6142857142857143;0.5352112676056338;0.32783505154639175;0.2546583850931677\n",
      "2;0.6278260869565218;0.49166666666666664;0.2746268656716418;0.4897959183673469\n",
      "2.25;0.6426858513189448;0.632768361581921;0.35;0.6299911268855368\n",
      "3;0.6348122866894198;0.6356589147286822;0.36585365853658536;0.7400177462289264\n",
      "5;0.6330275229357798;0.859375;0.6888888888888889;0.9032830523513753\n",
      "7;0.6896551724137931;0.9411764705882353;0.6666666666666666;0.9485359361135759\n"
     ]
    }
   ],
   "source": [
    "print('min_growth_rate;accuracy;TPR;FPR;non_classified_rate')\n",
    "for min_growth_rate in [1.5, 2, 2.25, 3, 5, 7]:\n",
    "    classifier = ClassifierByClosureSequencePatterns(number_of_classes=2,\n",
    "                                                 threshold_for_rules=0.004,\n",
    "                                                 threshold_for_growth_rate=min_growth_rate)\n",
    "    classifier.fit(X_train, y_train)\n",
    "    test_pred = classifier.predict(X_test)\n",
    "    acc, non_cl_num = accuracy_score_with_unclassified_objects(y_test, test_pred)\n",
    "    tpr, fpr, _ = tpr_fpr_nonclass(y_test, test_pred)\n",
    "    print(f'{min_growth_rate};{acc};{tpr};{fpr};{non_cl_num/len(y_test)}')"
   ]
  },
  {
   "cell_type": "code",
   "execution_count": 30,
   "metadata": {},
   "outputs": [
    {
     "name": "stdout",
     "output_type": "stream",
     "text": [
      "0.6426858513189448 0.632768361581921 0.35 0.6299911268855368\n"
     ]
    }
   ],
   "source": [
    "classifier = ClassifierByClosureSequencePatterns(number_of_classes=2,\n",
    "                                                 threshold_for_rules=0.004,\n",
    "                                                 threshold_for_growth_rate=2.25)\n",
    "classifier.fit(X_train, y_train)\n",
    "test_pred = classifier.predict(X_test)\n",
    "acc, non_cl_num = accuracy_score_with_unclassified_objects(y_test, test_pred)\n",
    "tpr, fpr, _ = tpr_fpr_nonclass(y_test, test_pred)\n",
    "print(acc, tpr, fpr, non_cl_num/len(y_test))"
   ]
  },
  {
   "cell_type": "code",
   "execution_count": 31,
   "metadata": {},
   "outputs": [],
   "source": [
    "generation_0_patterns = classifier.important_rules(0)\n",
    "generation_1_patterns = classifier.important_rules(1)"
   ]
  },
  {
   "cell_type": "code",
   "execution_count": 32,
   "metadata": {},
   "outputs": [
    {
     "data": {
      "text/plain": [
       "[([['work'], ['education'], ['separation'], ['children']],\n",
       "  [7.0836591086786544, 0.007818608287724784]),\n",
       " ([['work'], ['marriage'], ['separation'], ['education']],\n",
       "  [5.1946833463643465, 0.017200938232994525]),\n",
       " ([['work'], ['education'], ['marriage'], ['children'], ['separation']],\n",
       "  [4.958561376075059, 0.01641907740422205]),\n",
       " ([['work'], ['marriage'], ['separation'], ['education'], ['children']],\n",
       "  [4.958561376075059, 0.01641907740422205]),\n",
       " ([['work'], ['marriage'], ['education'], ['children']],\n",
       "  [4.604378420641126, 0.010164190774042221]),\n",
       " ([['work'], ['marriage'], ['education']],\n",
       "  [4.486317435496482, 0.014855355746677092]),\n",
       " ([['work'], ['marriage'], ['education'], ['children'], ['separation']],\n",
       "  [4.250195465207193, 0.009382329945269743]),\n",
       " ([['education'], ['work'], ['separation'], ['marriage']],\n",
       "  [4.037685691946833, 0.044566067240031274]),\n",
       " ([['education'], ['separation'], ['work'], ['marriage'], ['children']],\n",
       "  [3.777951524628616, 0.012509773260359656]),\n",
       " ([['education'], ['work'], ['separation'], ['children']],\n",
       "  [3.6835027365129007, 0.020328381548084442])]"
      ]
     },
     "execution_count": 32,
     "metadata": {},
     "output_type": "execute_result"
    }
   ],
   "source": [
    "sorted((filter(lambda x: x[1][1] > 0.007, generation_0_patterns)), key=lambda x: -x[1][0])[0: 10]"
   ]
  },
  {
   "cell_type": "code",
   "execution_count": 33,
   "metadata": {},
   "outputs": [
    {
     "data": {
      "text/plain": [
       "[([['parting'], ['separation'], ['work']], [inf, 0.00772626931567329]),\n",
       " ([['separation'], ['parting'], ['work']], [inf, 0.00772626931567329]),\n",
       " ([['parting'], ['education'], ['work']],\n",
       "  [14.116997792494482, 0.011037527593818985]),\n",
       " ([['marriage'], ['separation'], ['education'], ['children']],\n",
       "  [10.587748344370862, 0.016556291390728478]),\n",
       " ([['parting'], ['education']], [9.881898454746137, 0.01545253863134658]),\n",
       " ([['parting'], ['marriage'], ['children']],\n",
       "  [9.881898454746137, 0.00772626931567329]),\n",
       " ([['marriage'], ['education'], ['children']],\n",
       "  [9.881898454746137, 0.00772626931567329]),\n",
       " ([['marriage'], ['separation'], ['education'], ['children'], ['work']],\n",
       "  [8.47019867549669, 0.013245033112582781]),\n",
       " ([['parting'], ['work']], [6.352649006622517, 0.009933774834437087]),\n",
       " ([['parting']], [5.152704194260486, 0.08057395143487858])]"
      ]
     },
     "execution_count": 33,
     "metadata": {},
     "output_type": "execute_result"
    }
   ],
   "source": [
    "sorted((filter(lambda x: x[1][1] > 0.007, generation_1_patterns)), key=lambda x: -x[1][0])[0: 10]"
   ]
  },
  {
   "cell_type": "markdown",
   "metadata": {},
   "source": [
    "### Men generations"
   ]
  },
  {
   "cell_type": "code",
   "execution_count": 34,
   "metadata": {},
   "outputs": [],
   "source": [
    "data = generation_sequences_men_data\n",
    "label = generation_sequences_men_label"
   ]
  },
  {
   "cell_type": "code",
   "execution_count": 35,
   "metadata": {},
   "outputs": [],
   "source": [
    "size_of_train = int(len(data)*0.66)\n",
    "\n",
    "X_train = data[:size_of_train]\n",
    "X_test = data[size_of_train:]\n",
    "\n",
    "y_train = label[:size_of_train]\n",
    "y_test = label[size_of_train:]"
   ]
  },
  {
   "cell_type": "code",
   "execution_count": 36,
   "metadata": {},
   "outputs": [
    {
     "data": {
      "text/plain": [
       "1711"
      ]
     },
     "execution_count": 36,
     "metadata": {},
     "output_type": "execute_result"
    }
   ],
   "source": [
    "sum(label)"
   ]
  },
  {
   "cell_type": "code",
   "execution_count": 37,
   "metadata": {},
   "outputs": [
    {
     "data": {
      "text/plain": [
       "0.5098308184727938"
      ]
     },
     "execution_count": 37,
     "metadata": {},
     "output_type": "execute_result"
    }
   ],
   "source": [
    "sum(y_train) / len(y_train)"
   ]
  },
  {
   "cell_type": "code",
   "execution_count": 38,
   "metadata": {},
   "outputs": [
    {
     "data": {
      "text/plain": [
       "0.5288376220053239"
      ]
     },
     "execution_count": 38,
     "metadata": {},
     "output_type": "execute_result"
    }
   ],
   "source": [
    "sum(y_test) / len(y_test)"
   ]
  },
  {
   "cell_type": "markdown",
   "metadata": {},
   "source": [
    "Tunning minimal support for men"
   ]
  },
  {
   "cell_type": "code",
   "execution_count": 39,
   "metadata": {},
   "outputs": [
    {
     "name": "stdout",
     "output_type": "stream",
     "text": [
      "min_sup;accuracy;TPR;FPR;non_classified_rate\n",
      "0.001;0.6526005888125613;0.6624087591240876;0.35881104033970274;0.09582963620230701\n",
      "0.004;0.6294058408862034;0.6629001883239172;0.4090909090909091;0.1188997338065661\n",
      "0.01;0.6210855949895616;0.6225296442687747;0.3805309734513274;0.14995563442768411\n",
      "0.025;0.6185682326621924;0.6394849785407726;0.40420560747663553;0.2067435669920142\n",
      "0.04;0.5956632653061225;0.5919395465994962;0.4005167958656331;0.30434782608695654\n",
      "0.05;0.5956632653061225;0.5919395465994962;0.4005167958656331;0.30434782608695654\n",
      "0.1;0.6012526096033403;0.8671586715867159;0.7451923076923077;0.5749778172138421\n"
     ]
    }
   ],
   "source": [
    "print('min_sup;accuracy;TPR;FPR;non_classified_rate')\n",
    "for min_sup in [0.001, 0.004, 0.01, 0.025, 0.04, 0.05, 0.1]:\n",
    "    classifier = ClassifierByClosureSequencePatterns(number_of_classes=2,\n",
    "                                                     threshold_for_rules=min_sup,\n",
    "                                                     threshold_for_growth_rate=1.5)\n",
    "    classifier.fit(X_train, y_train)\n",
    "    test_pred = classifier.predict(X_test)\n",
    "    acc, non_cl_num = accuracy_score_with_unclassified_objects(y_test, test_pred)\n",
    "    tpr, fpr, _ = tpr_fpr_nonclass(y_test, test_pred)\n",
    "    if not math.isnan(acc) and not(tpr == fpr == 1.0):\n",
    "        print(f'{min_sup};{acc};{tpr};{fpr};{non_cl_num/len(y_test)}')"
   ]
  },
  {
   "cell_type": "markdown",
   "metadata": {},
   "source": [
    "Tuning of minimal growth rate for men"
   ]
  },
  {
   "cell_type": "code",
   "execution_count": 40,
   "metadata": {},
   "outputs": [
    {
     "name": "stdout",
     "output_type": "stream",
     "text": [
      "min_growth_rate;accuracy;TPR;FPR;non_classified_rate\n",
      "1.5;0.6526005888125613;0.6624087591240876;0.35881104033970274;0.09582963620230701\n",
      "2;0.7284122562674095;0.6876640419947506;0.22551928783382788;0.3629103815439219\n",
      "2.25;0.7362637362637363;0.7071005917159763;0.23076923076923078;0.43478260869565216\n",
      "3;0.7734553775743707;0.7435897435897436;0.1921182266009852;0.6122448979591837\n",
      "5;0.8448275862068966;0.8475609756097561;0.15873015873015872;0.7426796805678794\n",
      "7;0.9205607476635514;0.9473684210526315;0.12345679012345678;0.8101153504880213\n"
     ]
    }
   ],
   "source": [
    "print('min_growth_rate;accuracy;TPR;FPR;non_classified_rate')\n",
    "for min_growth_rate in [1.5, 2, 2.25, 3, 5, 7]:\n",
    "    classifier = ClassifierByClosureSequencePatterns(number_of_classes=2,\n",
    "                                                 threshold_for_rules=0.001,\n",
    "                                                 threshold_for_growth_rate=min_growth_rate)\n",
    "    classifier.fit(X_train, y_train)\n",
    "    test_pred = classifier.predict(X_test)\n",
    "    acc, non_cl_num = accuracy_score_with_unclassified_objects(y_test, test_pred)\n",
    "    tpr, fpr, _ = tpr_fpr_nonclass(y_test, test_pred)\n",
    "    print(f'{min_growth_rate};{acc};{tpr};{fpr};{non_cl_num/len(y_test)}')"
   ]
  },
  {
   "cell_type": "code",
   "execution_count": 41,
   "metadata": {},
   "outputs": [
    {
     "name": "stdout",
     "output_type": "stream",
     "text": [
      "0.7362637362637363 0.7071005917159763 0.23076923076923078 0.43478260869565216\n"
     ]
    }
   ],
   "source": [
    "classifier = ClassifierByClosureSequencePatterns(number_of_classes=2,\n",
    "                                                 threshold_for_rules=0.001,\n",
    "                                                 threshold_for_growth_rate=2.25)\n",
    "classifier.fit(X_train, y_train)\n",
    "test_pred = classifier.predict(X_test)\n",
    "acc, non_cl_num = accuracy_score_with_unclassified_objects(y_test, test_pred)\n",
    "tpr, fpr, _ = tpr_fpr_nonclass(y_test, test_pred)\n",
    "print(acc, tpr, fpr, non_cl_num/len(y_test))"
   ]
  },
  {
   "cell_type": "code",
   "execution_count": 42,
   "metadata": {},
   "outputs": [],
   "source": [
    "generation_0_patterns = classifier.important_rules(0)\n",
    "generation_1_patterns = classifier.important_rules(1)"
   ]
  },
  {
   "cell_type": "code",
   "execution_count": 43,
   "metadata": {},
   "outputs": [
    {
     "data": {
      "text/plain": [
       "[([['work'], ['marriage'], ['children'], ['education'], ['separation']],\n",
       "  [6.240671641791044, 0.022388059701492536]),\n",
       " ([['work'], ['marriage'], ['children'], ['education']],\n",
       "  [5.824626865671641, 0.026119402985074626]),\n",
       " ([['separation'], ['work'], ['education'], ['marriage']],\n",
       "  [5.011448439620081, 0.049440298507462684]),\n",
       " ([['work'], ['separation'], ['marriage'], ['children'], ['education']],\n",
       "  [4.94053171641791, 0.03544776119402985]),\n",
       " ([['separation'], ['work'], ['education'], ['marriage'], ['children']],\n",
       "  [4.680503731343284, 0.04197761194029851]),\n",
       " ([['work'], ['separation'], ['marriage']],\n",
       "  [4.240456371986222, 0.049440298507462684]),\n",
       " ([['work'], ['marriage'], ['children']],\n",
       "  [3.9004197761194033, 0.04197761194029851]),\n",
       " ([['work'], ['education'], ['separation'], ['marriage'], ['children']],\n",
       "  [2.730293843283582, 0.03917910447761194]),\n",
       " ([['work'], ['marriage'], ['separation'], ['children'], ['education']],\n",
       "  [2.6745735607675907, 0.033582089552238806]),\n",
       " ([['work'], ['marriage'], ['separation'], ['children']],\n",
       "  [2.5656094527363185, 0.03451492537313433])]"
      ]
     },
     "execution_count": 43,
     "metadata": {},
     "output_type": "execute_result"
    }
   ],
   "source": [
    "sorted((filter(lambda x: x[1][1] > 0.02, generation_0_patterns)), key=lambda x: -x[1][0])[0: 10]"
   ]
  },
  {
   "cell_type": "code",
   "execution_count": 44,
   "metadata": {},
   "outputs": [
    {
     "data": {
      "text/plain": [
       "[([['education'],\n",
       "   ['work'],\n",
       "   ['parting'],\n",
       "   ['separation'],\n",
       "   ['marriage'],\n",
       "   ['children']],\n",
       "  [inf, 0.02062780269058296]),\n",
       " ([['education'], ['work'], ['parting'], ['separation'], ['marriage']],\n",
       "  [23.074439461883408, 0.021524663677130046]),\n",
       " ([['education'], ['work'], ['parting'], ['separation']],\n",
       "  [4.422600896860987, 0.04125560538116592]),\n",
       " ([['education'], ['marriage']], [3.8457399103139016, 0.04304932735426009]),\n",
       " ([['separation'], ['parting']], [3.571044202434337, 0.023318385650224215]),\n",
       " ([['education'], ['work'], ['parting']],\n",
       "  [2.72406576980568, 0.06098654708520179]),\n",
       " ([['education'], ['work'], ['separation'], ['parting']],\n",
       "  [2.4997309417040356, 0.03497757847533632]),\n",
       " ([['separation'],\n",
       "   ['education'],\n",
       "   ['work'],\n",
       "   ['parting'],\n",
       "   ['marriage'],\n",
       "   ['children']],\n",
       "  [2.457000498256104, 0.02062780269058296]),\n",
       " ([['parting']], [2.3074439461883407, 0.03228699551569507]),\n",
       " ([['work'], ['education'], ['parting']],\n",
       "  [2.2926526388409796, 0.02780269058295964])]"
      ]
     },
     "execution_count": 44,
     "metadata": {},
     "output_type": "execute_result"
    }
   ],
   "source": [
    "sorted((filter(lambda x: x[1][1] > 0.02, generation_1_patterns)), key=lambda x: -x[1][0])[0: 10]"
   ]
  },
  {
   "cell_type": "code",
   "execution_count": null,
   "metadata": {},
   "outputs": [],
   "source": []
  }
 ],
 "metadata": {
  "kernelspec": {
   "display_name": "Python (common36)",
   "language": "python",
   "name": "common36"
  },
  "language_info": {
   "codemirror_mode": {
    "name": "ipython",
    "version": 3
   },
   "file_extension": ".py",
   "mimetype": "text/x-python",
   "name": "python",
   "nbconvert_exporter": "python",
   "pygments_lexer": "ipython3",
   "version": "3.6.6"
  }
 },
 "nbformat": 4,
 "nbformat_minor": 2
}
