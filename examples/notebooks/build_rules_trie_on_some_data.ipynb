{
 "cells": [
  {
   "cell_type": "code",
   "execution_count": 10,
   "metadata": {},
   "outputs": [],
   "source": [
    "import os, sys\n",
    "lib_path = os.path.abspath(os.path.join('../..'))\n",
    "sys.path.append(lib_path)"
   ]
  },
  {
   "cell_type": "code",
   "execution_count": 11,
   "metadata": {},
   "outputs": [],
   "source": [
    "from gsa.reader import ReadFromCSV\n",
    "from gsa.rules_trie import RulesTrie, ClosureRulesTrie\n",
    "from gsa.rules_trie import RulesImportance, HypothesisImportance"
   ]
  },
  {
   "cell_type": "code",
   "execution_count": 12,
   "metadata": {},
   "outputs": [
    {
     "name": "stdout",
     "output_type": "stream",
     "text": [
      "4857\n"
     ]
    }
   ],
   "source": [
    "sequence_reader = ReadFromCSV(file_name='../data/full_data_shuffle.csv',\n",
    "                              coding_dict={'work': 1,\n",
    "                                           'separation': 2,\n",
    "                                           'partner': 3,\n",
    "                                           'marriage': 4,\n",
    "                                           'children': 5,\n",
    "                                           'parting': 6,\n",
    "                                           'divorce': 7,\n",
    "                                           'education': 8})\n",
    "\n",
    "data, label = sequence_reader.from_file_to_data_list(label_name='label')\n",
    "print(len(data))"
   ]
  },
  {
   "cell_type": "markdown",
   "metadata": {},
   "source": [
    "#### Using data and label we can build Rules Trie and Closure Rules Trie"
   ]
  },
  {
   "cell_type": "code",
   "execution_count": 13,
   "metadata": {},
   "outputs": [],
   "source": [
    "rules_trie = RulesTrie(list_of_sequences=data, label=label)\n",
    "closure_rules_trie = ClosureRulesTrie(list_of_sequences=data, label=label)"
   ]
  },
  {
   "cell_type": "markdown",
   "metadata": {},
   "source": [
    "#### We can see for example the full trie structure and support for some sequence"
   ]
  },
  {
   "cell_type": "code",
   "execution_count": 17,
   "metadata": {},
   "outputs": [
    {
     "name": "stdout",
     "output_type": "stream",
     "text": [
      "[(0, []), (1, [['1']]), (2, [['1'], ['8']]), (3, [['1'], ['8'], ['2']]), (4, [['4', '2']])]\n",
      "0.328802588997\n",
      "0.287137681159\n",
      "[(0, []), (1, [['1']]), (2, [['1'], ['8']]), (3, [['1'], ['8'], ['2']]), (4, [['4', '2']])]\n",
      "0.328802588997\n",
      "0.287137681159\n",
      "\n"
     ]
    }
   ],
   "source": [
    "print(rules_trie.node_full_sequence_dict.items()[0: 5])\n",
    "print(rules_trie.support_t(rule=[['1']], label=1))\n",
    "print(rules_trie.support_t(rule=[['1']], label=0))\n",
    "\n",
    "print(closure_rules_trie.node_full_sequence_dict.items()[0: 5])\n",
    "print(closure_rules_trie.support_t(rule=[['1']], label=1))\n",
    "print(closure_rules_trie.support_t(rule=[['1']], label=0))\n",
    "print(\"\")"
   ]
  },
  {
   "cell_type": "markdown",
   "metadata": {},
   "source": [
    "#### Also we can take important rules by some threshold"
   ]
  },
  {
   "cell_type": "code",
   "execution_count": 18,
   "metadata": {},
   "outputs": [
    {
     "name": "stdout",
     "output_type": "stream",
     "text": [
      "Rules with min support 0.2\n",
      "[[['1']], [['2']], [['8']]]\n",
      "[[['1']], [['2']], [['8']]]\n",
      "\n",
      "[[['1']], [['2']], [['8']]]\n",
      "[[['1']], [['2']], [['8']]]\n"
     ]
    }
   ],
   "source": [
    "print(\"Rules with min support 0.2\")\n",
    "print(rules_trie.important_rules_selection(min_threshold=0.2, label=0))\n",
    "print(rules_trie.important_rules_selection(min_threshold=0.2, label=1))\n",
    "print(\"\")\n",
    "print(closure_rules_trie.important_rules_selection(min_threshold=0.2, label=0))\n",
    "print(closure_rules_trie.important_rules_selection(min_threshold=0.2, label=1))"
   ]
  },
  {
   "cell_type": "markdown",
   "metadata": {},
   "source": [
    "#### Also we can use a tool that uses in classification task, it takes rules with some growth rate threshold  \n",
    "#### Create some candidates by min support"
   ]
  },
  {
   "cell_type": "code",
   "execution_count": 19,
   "metadata": {},
   "outputs": [],
   "source": [
    "rules_candidates_for1 = rules_trie.important_rules_selection(min_threshold=0.01, label=1)\n",
    "rules_candidates_for0 = rules_trie.important_rules_selection(min_threshold=0.01, label=0)"
   ]
  },
  {
   "cell_type": "markdown",
   "metadata": {},
   "source": [
    "#### From candidates select important rules by threshold"
   ]
  },
  {
   "cell_type": "code",
   "execution_count": 22,
   "metadata": {},
   "outputs": [
    {
     "name": "stdout",
     "output_type": "stream",
     "text": [
      "Important Rules\n",
      "[('153', [['8'], ['4', '2']]), ('135', [['2'], ['8'], ['1'], ['4'], ['5'], ['7']]), ('139', [['1', '2'], ['8']])]\n",
      "[('155', [['1'], ['8'], ['2'], ['4'], ['5']]), ('157', [['1'], ['8'], ['4'], ['5']]), ('159', [['8'], ['2'], ['1']])]\n",
      "\n"
     ]
    }
   ],
   "source": [
    "important_rules_for0 = RulesImportance(rules=rules_candidates_for0, trie=rules_trie, threshold=2, label=0)\n",
    "important_rules_for1 = RulesImportance(rules=rules_candidates_for1, trie=rules_trie, threshold=2, label=1)\n",
    "print(\"Important Rules\")\n",
    "print(important_rules_for0.dict_of_rules.items()[0: 3])\n",
    "print(important_rules_for1.dict_of_rules.items()[0: 3])\n",
    "print(\"\")"
   ]
  },
  {
   "cell_type": "markdown",
   "metadata": {},
   "source": [
    "#### From candidates select important rules by threshold"
   ]
  },
  {
   "cell_type": "code",
   "execution_count": 25,
   "metadata": {},
   "outputs": [
    {
     "name": "stdout",
     "output_type": "stream",
     "text": [
      "Important Rules\n",
      "[('153', [['8'], ['4', '2']]), ('135', [['2'], ['8'], ['1'], ['4'], ['5'], ['7']]), ('139', [['1', '2'], ['8']])]\n",
      "[('155', [['1'], ['8'], ['2'], ['4'], ['5']]), ('157', [['1'], ['8'], ['4'], ['5']]), ('159', [['8'], ['2'], ['1']])]\n",
      "\n"
     ]
    }
   ],
   "source": [
    "important_rules_for0 = RulesImportance(rules=rules_candidates_for0, trie=rules_trie, threshold=2, label=0)\n",
    "important_rules_for1 = RulesImportance(rules=rules_candidates_for1, trie=rules_trie, threshold=2, label=1)\n",
    "print(\"Important Rules\")\n",
    "print(important_rules_for0.dict_of_rules.items()[0: 3])\n",
    "print(important_rules_for1.dict_of_rules.items()[0: 3])\n",
    "print(\"\")"
   ]
  },
  {
   "cell_type": "markdown",
   "metadata": {},
   "source": [
    "#### The same actions but for closure patters"
   ]
  },
  {
   "cell_type": "code",
   "execution_count": 29,
   "metadata": {},
   "outputs": [
    {
     "name": "stdout",
     "output_type": "stream",
     "text": [
      "Important Closure Rules\n",
      "[('153', [['8'], ['4', '2']]), ('135', [['2'], ['8'], ['1'], ['4'], ['5'], ['7']]), ('139', [['1', '2'], ['8']])]\n",
      "[('156', [['1'], ['8'], ['4'], ['5']]), ('159', [['8'], ['2'], ['1'], ['4']]), ('158', [['8'], ['2'], ['1']])]\n",
      "\n"
     ]
    }
   ],
   "source": [
    "rules_candidates_for1 = closure_rules_trie.important_rules_selection(min_threshold=0.01, label=1)\n",
    "rules_candidates_for0 = closure_rules_trie.important_rules_selection(min_threshold=0.01, label=0)\n",
    "important_rules_for0 = RulesImportance(rules=rules_candidates_for0, trie=rules_trie, threshold=2, label=0)\n",
    "important_rules_for1 = RulesImportance(rules=rules_candidates_for1, trie=rules_trie, threshold=2, label=1)\n",
    "print(\"Important Closure Rules\")\n",
    "print(important_rules_for0.dict_of_rules.items()[0: 3])\n",
    "print(important_rules_for1.dict_of_rules.items()[0: 3])\n",
    "print(\"\")"
   ]
  },
  {
   "cell_type": "markdown",
   "metadata": {},
   "source": [
    "#### The same actions but for hypothesis"
   ]
  },
  {
   "cell_type": "code",
   "execution_count": 31,
   "metadata": {},
   "outputs": [
    {
     "name": "stdout",
     "output_type": "stream",
     "text": [
      "Important Hypothesis\n",
      "[('349', [['8'], ['1'], ['2'], ['5'], ['4']]), ('595', [['2'], ['4'], ['5'], ['1'], ['7']])]\n",
      "[('524', [['2'], ['1'], ['8'], ['4'], ['7'], ['5']]), ('527', [['2', '8'], ['4']])]\n",
      "\n"
     ]
    }
   ],
   "source": [
    "rules_candidates_for1 = rules_trie.important_rules_selection(min_threshold=0.001, label=1)\n",
    "rules_candidates_for0 = rules_trie.important_rules_selection(min_threshold=0.001, label=0)\n",
    "important_rules_for0 = HypothesisImportance(rules=rules_candidates_for0, trie=rules_trie, label=0)\n",
    "important_rules_for1 = HypothesisImportance(rules=rules_candidates_for1, trie=rules_trie, label=1)\n",
    "print(\"Important Hypothesis\")\n",
    "print(important_rules_for0.dict_of_rules.items()[0: 2])\n",
    "print(important_rules_for1.dict_of_rules.items()[0: 2])\n",
    "print(\"\")"
   ]
  },
  {
   "cell_type": "code",
   "execution_count": null,
   "metadata": {},
   "outputs": [],
   "source": [
    ""
   ]
  }
 ],
 "metadata": {
  "kernelspec": {
   "display_name": "Python 2",
   "language": "python",
   "name": "python2"
  },
  "language_info": {
   "codemirror_mode": {
    "name": "ipython",
    "version": 2.0
   },
   "file_extension": ".py",
   "mimetype": "text/x-python",
   "name": "python",
   "nbconvert_exporter": "python",
   "pygments_lexer": "ipython2",
   "version": "2.7.10"
  }
 },
 "nbformat": 4,
 "nbformat_minor": 0
}