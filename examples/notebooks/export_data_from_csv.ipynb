{
 "cells": [
  {
   "cell_type": "code",
   "execution_count": 5,
   "metadata": {},
   "outputs": [],
   "source": [
    "import os, sys\n",
    "lib_path = os.path.abspath(os.path.join('../..'))\n",
    "sys.path.append(lib_path)"
   ]
  },
  {
   "cell_type": "code",
   "execution_count": 6,
   "metadata": {},
   "outputs": [],
   "source": [
    "from gsa.reader import ReadFromCSV"
   ]
  },
  {
   "cell_type": "markdown",
   "metadata": {},
   "source": [
    "### Create a object of class ReadFromCSV  \n",
    "*file_name* - is a path to file with data  \n",
    "*coding dict* - is a dict of column names to int numbers  "
   ]
  },
  {
   "cell_type": "code",
   "execution_count": 9,
   "metadata": {},
   "outputs": [],
   "source": [
    "sequence_reader = ReadFromCSV(file_name='../data/full_data_shuffle.csv',\n",
    "                              coding_dict={'work': 1,\n",
    "                                           'separation': 2,\n",
    "                                           'partner': 3,\n",
    "                                           'marriage': 4,\n",
    "                                           'children': 5,\n",
    "                                           'parting': 6,\n",
    "                                           'divorce': 7,\n",
    "                                           'education': 8})"
   ]
  },
  {
   "cell_type": "markdown",
   "metadata": {},
   "source": [
    "Call from_file_to_data_list method to create two lists: \n",
    "* first list with data\n",
    "* second list with labels"
   ]
  },
  {
   "cell_type": "code",
   "execution_count": 11,
   "metadata": {},
   "outputs": [],
   "source": [
    "data, label = sequence_reader.from_file_to_data_list(label_name='label')"
   ]
  },
  {
   "cell_type": "code",
   "execution_count": 13,
   "metadata": {},
   "outputs": [
    {
     "data": {
      "text/plain": [
       "[[['1'], ['8'], ['2']],\n",
       " [['4', '2'], ['1'], ['5'], ['8']],\n",
       " [['2'], ['1', '8'], ['4'], ['5']],\n",
       " [['8'], ['4'], ['5'], ['2'], ['1']],\n",
       " [['1'], ['8'], ['3'], ['4'], ['5'], ['2']]]"
      ]
     },
     "execution_count": 13,
     "output_type": "execute_result",
     "metadata": {}
    }
   ],
   "source": [
    "data[0: 5]"
   ]
  },
  {
   "cell_type": "code",
   "execution_count": 14,
   "metadata": {},
   "outputs": [
    {
     "data": {
      "text/plain": [
       "[0, 1, 0, 0, 1]"
      ]
     },
     "execution_count": 14,
     "output_type": "execute_result",
     "metadata": {}
    }
   ],
   "source": [
    "label[0: 5]"
   ]
  },
  {
   "cell_type": "code",
   "execution_count": null,
   "metadata": {},
   "outputs": [],
   "source": [
    ""
   ]
  }
 ],
 "metadata": {
  "kernelspec": {
   "display_name": "Python 2",
   "language": "python",
   "name": "python2"
  },
  "language_info": {
   "codemirror_mode": {
    "name": "ipython",
    "version": 2.0
   },
   "file_extension": ".py",
   "mimetype": "text/x-python",
   "name": "python",
   "nbconvert_exporter": "python",
   "pygments_lexer": "ipython2",
   "version": "2.7.10"
  }
 },
 "nbformat": 4,
 "nbformat_minor": 0
}